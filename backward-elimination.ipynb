{
 "cells": [
  {
   "cell_type": "code",
<<<<<<< Updated upstream
   "execution_count": 2,
=======
   "execution_count": 30,
>>>>>>> Stashed changes
   "metadata": {},
   "outputs": [],
   "source": [
    "import numpy as np\n",
    "import pandas as pd\n",
    "import seaborn as sns\n",
<<<<<<< Updated upstream
    "import statsmodels.api as sm\n",
=======
>>>>>>> Stashed changes
    "import matplotlib.pyplot as plt\n",
    "from sklearn.linear_model import LinearRegression\n",
    "from sklearn.model_selection import train_test_split"
   ]
  },
  {
   "cell_type": "code",
<<<<<<< Updated upstream
   "execution_count": 3,
=======
   "execution_count": 31,
>>>>>>> Stashed changes
   "metadata": {},
   "outputs": [
    {
     "data": {
      "text/html": [
       "<div>\n",
       "<style scoped>\n",
       "    .dataframe tbody tr th:only-of-type {\n",
       "        vertical-align: middle;\n",
       "    }\n",
       "\n",
       "    .dataframe tbody tr th {\n",
       "        vertical-align: top;\n",
       "    }\n",
       "\n",
       "    .dataframe thead th {\n",
       "        text-align: right;\n",
       "    }\n",
       "</style>\n",
       "<table border=\"1\" class=\"dataframe\">\n",
       "  <thead>\n",
       "    <tr style=\"text-align: right;\">\n",
       "      <th></th>\n",
       "      <th>Avant gauche</th>\n",
       "      <th>Avant droite</th>\n",
       "      <th>Passager arrière (à droite)</th>\n",
       "      <th>Passager arrière (à gauche)</th>\n",
       "      <th>Passager arrière (au milieu)</th>\n",
       "      <th>Passager avant (au milieu)</th>\n",
       "      <th>Passager central (à gauche)</th>\n",
       "      <th>passager central (au mileu)</th>\n",
       "      <th>Passager central (à droite)</th>\n",
       "      <th>Conducteur</th>\n",
       "      <th>...</th>\n",
       "      <th>3 voies de circulation</th>\n",
       "      <th>4 voies de circulation</th>\n",
       "      <th>5 voies de circulation</th>\n",
       "      <th>6 voies de circulation</th>\n",
       "      <th>7 voies de circulation</th>\n",
       "      <th>8 voies de circulation</th>\n",
       "      <th>9 voies de circulation</th>\n",
       "      <th>10 voies de circulation</th>\n",
       "      <th>11 voies de circulation</th>\n",
       "      <th>12 voies de circulation</th>\n",
       "    </tr>\n",
       "  </thead>\n",
       "  <tbody>\n",
       "    <tr>\n",
       "      <th>0</th>\n",
       "      <td>0</td>\n",
       "      <td>1</td>\n",
       "      <td>0</td>\n",
       "      <td>0</td>\n",
       "      <td>0</td>\n",
       "      <td>0</td>\n",
       "      <td>0</td>\n",
       "      <td>0</td>\n",
       "      <td>0</td>\n",
       "      <td>0</td>\n",
       "      <td>...</td>\n",
       "      <td>0</td>\n",
       "      <td>0</td>\n",
       "      <td>0</td>\n",
       "      <td>0</td>\n",
       "      <td>0</td>\n",
       "      <td>0</td>\n",
       "      <td>0</td>\n",
       "      <td>1</td>\n",
       "      <td>0</td>\n",
       "      <td>0</td>\n",
       "    </tr>\n",
       "    <tr>\n",
       "      <th>1</th>\n",
       "      <td>1</td>\n",
       "      <td>0</td>\n",
       "      <td>0</td>\n",
       "      <td>0</td>\n",
       "      <td>0</td>\n",
       "      <td>0</td>\n",
       "      <td>0</td>\n",
       "      <td>0</td>\n",
       "      <td>0</td>\n",
       "      <td>1</td>\n",
       "      <td>...</td>\n",
       "      <td>0</td>\n",
       "      <td>0</td>\n",
       "      <td>0</td>\n",
       "      <td>0</td>\n",
       "      <td>0</td>\n",
       "      <td>0</td>\n",
       "      <td>0</td>\n",
       "      <td>1</td>\n",
       "      <td>0</td>\n",
       "      <td>0</td>\n",
       "    </tr>\n",
       "    <tr>\n",
       "      <th>2</th>\n",
       "      <td>1</td>\n",
       "      <td>0</td>\n",
       "      <td>0</td>\n",
       "      <td>0</td>\n",
       "      <td>0</td>\n",
       "      <td>0</td>\n",
       "      <td>0</td>\n",
       "      <td>0</td>\n",
       "      <td>0</td>\n",
       "      <td>1</td>\n",
       "      <td>...</td>\n",
       "      <td>0</td>\n",
       "      <td>0</td>\n",
       "      <td>0</td>\n",
       "      <td>0</td>\n",
       "      <td>0</td>\n",
       "      <td>0</td>\n",
       "      <td>0</td>\n",
       "      <td>1</td>\n",
       "      <td>0</td>\n",
       "      <td>0</td>\n",
       "    </tr>\n",
       "    <tr>\n",
       "      <th>3</th>\n",
       "      <td>1</td>\n",
       "      <td>0</td>\n",
       "      <td>0</td>\n",
       "      <td>0</td>\n",
       "      <td>0</td>\n",
       "      <td>0</td>\n",
       "      <td>0</td>\n",
       "      <td>0</td>\n",
       "      <td>0</td>\n",
       "      <td>1</td>\n",
       "      <td>...</td>\n",
       "      <td>0</td>\n",
       "      <td>0</td>\n",
       "      <td>0</td>\n",
       "      <td>0</td>\n",
       "      <td>0</td>\n",
       "      <td>0</td>\n",
       "      <td>0</td>\n",
       "      <td>0</td>\n",
       "      <td>0</td>\n",
       "      <td>0</td>\n",
       "    </tr>\n",
       "    <tr>\n",
       "      <th>4</th>\n",
       "      <td>1</td>\n",
       "      <td>0</td>\n",
       "      <td>0</td>\n",
       "      <td>0</td>\n",
       "      <td>0</td>\n",
       "      <td>0</td>\n",
       "      <td>0</td>\n",
       "      <td>0</td>\n",
       "      <td>0</td>\n",
       "      <td>1</td>\n",
       "      <td>...</td>\n",
       "      <td>0</td>\n",
       "      <td>0</td>\n",
       "      <td>0</td>\n",
       "      <td>0</td>\n",
       "      <td>0</td>\n",
       "      <td>1</td>\n",
       "      <td>0</td>\n",
       "      <td>0</td>\n",
       "      <td>0</td>\n",
       "      <td>0</td>\n",
       "    </tr>\n",
       "  </tbody>\n",
       "</table>\n",
       "<p>5 rows × 253 columns</p>\n",
       "</div>"
      ],
      "text/plain": [
       "   Avant gauche  Avant droite  Passager arrière (à droite)  \\\n",
       "0             0             1                            0   \n",
       "1             1             0                            0   \n",
       "2             1             0                            0   \n",
       "3             1             0                            0   \n",
       "4             1             0                            0   \n",
       "\n",
       "   Passager arrière (à gauche)  Passager arrière (au milieu)  \\\n",
       "0                            0                             0   \n",
       "1                            0                             0   \n",
       "2                            0                             0   \n",
       "3                            0                             0   \n",
       "4                            0                             0   \n",
       "\n",
       "   Passager avant (au milieu)  Passager central (à gauche)  \\\n",
       "0                           0                            0   \n",
       "1                           0                            0   \n",
       "2                           0                            0   \n",
       "3                           0                            0   \n",
       "4                           0                            0   \n",
       "\n",
       "   passager central (au mileu)  Passager central (à droite)  Conducteur  ...  \\\n",
       "0                            0                            0           0  ...   \n",
       "1                            0                            0           1  ...   \n",
       "2                            0                            0           1  ...   \n",
       "3                            0                            0           1  ...   \n",
       "4                            0                            0           1  ...   \n",
       "\n",
       "   3 voies de circulation  4 voies de circulation  5 voies de circulation  \\\n",
       "0                       0                       0                       0   \n",
       "1                       0                       0                       0   \n",
       "2                       0                       0                       0   \n",
       "3                       0                       0                       0   \n",
       "4                       0                       0                       0   \n",
       "\n",
       "   6 voies de circulation  7 voies de circulation  8 voies de circulation  \\\n",
       "0                       0                       0                       0   \n",
       "1                       0                       0                       0   \n",
       "2                       0                       0                       0   \n",
       "3                       0                       0                       0   \n",
       "4                       0                       0                       1   \n",
       "\n",
       "   9 voies de circulation  10 voies de circulation  11 voies de circulation  \\\n",
       "0                       0                        1                        0   \n",
       "1                       0                        1                        0   \n",
       "2                       0                        1                        0   \n",
       "3                       0                        0                        0   \n",
       "4                       0                        0                        0   \n",
       "\n",
       "   12 voies de circulation  \n",
       "0                        0  \n",
       "1                        0  \n",
       "2                        0  \n",
       "3                        0  \n",
       "4                        0  \n",
       "\n",
       "[5 rows x 253 columns]"
      ]
     },
<<<<<<< Updated upstream
     "execution_count": 3,
=======
     "execution_count": 31,
>>>>>>> Stashed changes
     "metadata": {},
     "output_type": "execute_result"
    }
   ],
   "source": [
    "data = pd.read_csv('Dummies.csv')\n",
    "data.head()"
   ]
  },
  {
   "cell_type": "code",
<<<<<<< Updated upstream
   "execution_count": 4,
   "metadata": {},
   "outputs": [
    {
     "name": "stderr",
     "output_type": "stream",
     "text": [
      "C:\\Users\\Erwan\\Anaconda3\\lib\\site-packages\\statsmodels\\tsa\\tsatools.py:142: FutureWarning: In a future version of pandas all arguments of concat except for the argument 'objs' will be keyword-only\n",
      "  x = pd.concat(x[::order], 1)\n"
     ]
    }
   ],
   "source": [
    "targets = ['Tué', 'Indemne', 'Blessé léger', 'Blessé hospitalisé']\n",
    "X = data.drop(targets, axis=1)\n",
    "X = sm.add_constant(X)\n",
=======
   "execution_count": 32,
   "metadata": {},
   "outputs": [],
   "source": [
    "targets = ['Tué', 'Indemne', 'Blessé léger', 'Blessé hospitalisé']\n",
    "X = data.drop(targets, axis=1)\n",
>>>>>>> Stashed changes
    "Y = [data[target] for target in targets]"
   ]
  },
  {
   "cell_type": "code",
<<<<<<< Updated upstream
   "execution_count": 5,
   "metadata": {},
   "outputs": [],
   "source": [
    "from tqdm import tqdm\n",
    "X_opts = []\n",
    "significance_level = .05\n",
    "for i in tqdm(range(4), descr='Régressions'):\n",
    "    X_opt = X.copy()\n",
    "    highest_pvalue = 1\n",
    "    while X_opt.columns.tolist() and highest_pvalue > significance_level:\n",
    "        ols = sm.OLS(endog=Y[i], exog=X_opt).fit()\n",
    "        highest_pvalue = ols.pvalues.max()\n",
    "        less_significant = ols.pvalues.index[ols.pvalues.argmax()]\n",
    "        if highest_pvalue > significance_level:\n",
    "            X_opt.drop(inplace=True, columns=less_significant)\n",
    "    X_opts.append(X_opt.columns)"
=======
   "execution_count": 33,
   "metadata": {},
   "outputs": [],
   "source": [
    "XTrain, XTest, YTrain, YTest = train_test_split(X, Y[0], test_size=0.3)"
>>>>>>> Stashed changes
   ]
  },
  {
   "cell_type": "code",
<<<<<<< Updated upstream
   "execution_count": 8,
=======
   "execution_count": 34,
   "metadata": {},
   "outputs": [],
   "source": [
    "lm = LinearRegression()\n",
    "lm.fit(XTrain, YTrain)\n",
    "pred = lm.predict(XTest)"
   ]
  },
  {
   "cell_type": "code",
   "execution_count": 35,
>>>>>>> Stashed changes
   "metadata": {},
   "outputs": [
    {
     "data": {
      "text/plain": [
<<<<<<< Updated upstream
       "[130, 162, 144, 150]"
      ]
     },
     "execution_count": 8,
=======
       "array([ 0.08529094, -0.01597008,  0.05957333,  0.05438724,  0.08359257])"
      ]
     },
     "execution_count": 35,
>>>>>>> Stashed changes
     "metadata": {},
     "output_type": "execute_result"
    }
   ],
   "source": [
<<<<<<< Updated upstream
    "[len(x) for x in X_opts]"
=======
    "pred[:50]"
>>>>>>> Stashed changes
   ]
  },
  {
   "cell_type": "code",
<<<<<<< Updated upstream
   "execution_count": null,
   "metadata": {},
   "outputs": [],
   "source": []
=======
   "execution_count": 40,
   "metadata": {},
   "outputs": [
    {
     "data": {
      "text/plain": [
       "0.7647502640712238"
      ]
     },
     "execution_count": 40,
     "metadata": {},
     "output_type": "execute_result"
    }
   ],
   "source": [
    "(np.abs(YTest - pred) < .05).sum()/len(YTest)"
   ]
  },
  {
   "cell_type": "code",
   "execution_count": 41,
   "metadata": {},
   "outputs": [
    {
     "name": "stdout",
     "output_type": "stream",
     "text": [
      "Accuracy on train sample of linear model for Y[i] : 0.7654293043609477\n",
      "Accuracy on train sample of linear model for Y[i] : 0.09333031537649011\n",
      "Accuracy on train sample of linear model for Y[i] : 0.036567577083647704\n",
      "Accuracy on train sample of linear model for Y[i] : 0.2535083748302399\n"
     ]
    }
   ],
   "source": [
    "lms = []\n",
    "for i in range(4):\n",
    "    XTrain, XTest, YTrain, YTest = train_test_split(X, Y[i], test_size=0.3)\n",
    "    lm = LinearRegression()\n",
    "    lm.fit(XTrain, YTrain)\n",
    "    pred = lm.predict(XTest)\n",
    "    print(f'Accuracy on train sample of linear model for Y[i] : {(np.abs(YTest - pred) < .05).sum()/len(YTest)}')\n",
    "    lms.append(lm)"
   ]
>>>>>>> Stashed changes
  }
 ],
 "metadata": {
  "interpreter": {
   "hash": "30e27b106c8b3f99b2faecf34bf25cdb5b6d677319f712e782cc959df41700d2"
  },
  "kernelspec": {
   "display_name": "Python 3.8.8 64-bit ('base': conda)",
   "language": "python",
   "name": "python3"
  },
  "language_info": {
   "codemirror_mode": {
    "name": "ipython",
    "version": 3
   },
   "file_extension": ".py",
   "mimetype": "text/x-python",
   "name": "python",
   "nbconvert_exporter": "python",
   "pygments_lexer": "ipython3",
   "version": "3.8.8"
  },
  "orig_nbformat": 4
 },
 "nbformat": 4,
 "nbformat_minor": 2
}
