{
 "cells": [
  {
   "cell_type": "code",
   "execution_count": 3,
   "metadata": {},
   "outputs": [],
   "source": [
    "import numpy as np\n",
    "import pandas as pd\n",
    "import matplotlib.pyplot as plt\n",
    "from sklearn import linear_model"
   ]
  },
  {
   "cell_type": "code",
   "execution_count": 4,
   "metadata": {
    "collapsed": true
   },
   "outputs": [],
   "source": [
    "carac = pd.read_csv('https://www.data.gouv.fr/fr/datasets/r/e22ba475-45a3-46ac-a0f7-9ca9ed1e283a', sep=';')\n",
    "lieux = pd.read_csv('https://www.data.gouv.fr/fr/datasets/r/2ad65965-36a1-4452-9c08-61a6c874e3e6', sep=';')\n",
    "vehic = pd.read_csv('https://www.data.gouv.fr/fr/datasets/r/780cd335-5048-4bd6-a841-105b44eb2667', sep=';')\n",
    "us = pd.read_csv('https://www.data.gouv.fr/fr/datasets/r/36b1b7b3-84b4-4901-9163-59ae8a9e3028', sep=';')"
   ]
  },
  {
   "cell_type": "code",
   "execution_count": 5,
   "metadata": {},
   "outputs": [
    {
     "data": {
      "text/plain": [
       "(58840, 15)"
      ]
     },
     "execution_count": 5,
     "metadata": {},
     "output_type": "execute_result"
    }
   ],
   "source": [
    "carac.head()\n",
    "carac.shape"
   ]
  },
  {
   "cell_type": "code",
   "execution_count": 6,
   "metadata": {},
   "outputs": [
    {
     "data": {
      "text/plain": [
       "(100710, 11)"
      ]
     },
     "execution_count": 6,
     "metadata": {},
     "output_type": "execute_result"
    }
   ],
   "source": [
    "vehic.head()\n",
    "vehic.shape"
   ]
  },
  {
   "cell_type": "code",
   "execution_count": 7,
   "metadata": {},
   "outputs": [
    {
     "data": {
      "text/plain": [
       "(58840, 18)"
      ]
     },
     "execution_count": 7,
     "metadata": {},
     "output_type": "execute_result"
    }
   ],
   "source": [
    "lieux.head()\n",
    "lieux.shape"
   ]
  },
  {
   "cell_type": "code",
   "execution_count": 8,
   "metadata": {},
   "outputs": [
    {
     "data": {
      "text/plain": [
       "(132977, 15)"
      ]
     },
     "execution_count": 8,
     "metadata": {},
     "output_type": "execute_result"
    }
   ],
   "source": [
    "us.head()\n",
    "us.shape"
   ]
  },
  {
   "cell_type": "code",
   "execution_count": 9,
   "metadata": {
    "collapsed": true
   },
   "outputs": [],
   "source": [
    "# on remarque num_acc est la clé commune aux 4 df"
   ]
  },
  {
   "cell_type": "code",
   "execution_count": 10,
   "metadata": {
    "collapsed": true
   },
   "outputs": [],
   "source": [
    "df1=carac.merge(vehic, how='inner', on='Num_Acc')"
   ]
  },
  {
   "cell_type": "code",
   "execution_count": 11,
   "metadata": {
    "collapsed": true
   },
   "outputs": [],
   "source": [
    "df2=lieux.merge(us, how='inner', on='Num_Acc')"
   ]
  },
  {
   "cell_type": "code",
   "execution_count": 12,
   "metadata": {
    "collapsed": true
   },
   "outputs": [],
   "source": [
    "df=df1.merge(df2, how='inner', on='Num_Acc')"
   ]
  },
  {
   "cell_type": "code",
   "execution_count": 13,
   "metadata": {},
   "outputs": [
    {
     "data": {
      "text/html": [
       "<div>\n",
       "<style scoped>\n",
       "    .dataframe tbody tr th:only-of-type {\n",
       "        vertical-align: middle;\n",
       "    }\n",
       "\n",
       "    .dataframe tbody tr th {\n",
       "        vertical-align: top;\n",
       "    }\n",
       "\n",
       "    .dataframe thead th {\n",
       "        text-align: right;\n",
       "    }\n",
       "</style>\n",
       "<table border=\"1\" class=\"dataframe\">\n",
       "  <thead>\n",
       "    <tr style=\"text-align: right;\">\n",
       "      <th></th>\n",
       "      <th>Num_Acc</th>\n",
       "      <th>jour</th>\n",
       "      <th>mois</th>\n",
       "      <th>an</th>\n",
       "      <th>hrmn</th>\n",
       "      <th>lum</th>\n",
       "      <th>dep</th>\n",
       "      <th>com</th>\n",
       "      <th>agg</th>\n",
       "      <th>int</th>\n",
       "      <th>...</th>\n",
       "      <th>grav</th>\n",
       "      <th>sexe</th>\n",
       "      <th>an_nais</th>\n",
       "      <th>trajet</th>\n",
       "      <th>secu1</th>\n",
       "      <th>secu2</th>\n",
       "      <th>secu3</th>\n",
       "      <th>locp</th>\n",
       "      <th>actp</th>\n",
       "      <th>etatp</th>\n",
       "    </tr>\n",
       "  </thead>\n",
       "  <tbody>\n",
       "    <tr>\n",
       "      <th>0</th>\n",
       "      <td>201900000001</td>\n",
       "      <td>30</td>\n",
       "      <td>11</td>\n",
       "      <td>2019</td>\n",
       "      <td>01:30</td>\n",
       "      <td>4</td>\n",
       "      <td>93</td>\n",
       "      <td>93053</td>\n",
       "      <td>1</td>\n",
       "      <td>1</td>\n",
       "      <td>...</td>\n",
       "      <td>4</td>\n",
       "      <td>2</td>\n",
       "      <td>2002</td>\n",
       "      <td>0</td>\n",
       "      <td>1</td>\n",
       "      <td>0</td>\n",
       "      <td>-1</td>\n",
       "      <td>-1</td>\n",
       "      <td>-1</td>\n",
       "      <td>-1</td>\n",
       "    </tr>\n",
       "    <tr>\n",
       "      <th>1</th>\n",
       "      <td>201900000001</td>\n",
       "      <td>30</td>\n",
       "      <td>11</td>\n",
       "      <td>2019</td>\n",
       "      <td>01:30</td>\n",
       "      <td>4</td>\n",
       "      <td>93</td>\n",
       "      <td>93053</td>\n",
       "      <td>1</td>\n",
       "      <td>1</td>\n",
       "      <td>...</td>\n",
       "      <td>4</td>\n",
       "      <td>2</td>\n",
       "      <td>1993</td>\n",
       "      <td>5</td>\n",
       "      <td>1</td>\n",
       "      <td>0</td>\n",
       "      <td>-1</td>\n",
       "      <td>-1</td>\n",
       "      <td>-1</td>\n",
       "      <td>-1</td>\n",
       "    </tr>\n",
       "    <tr>\n",
       "      <th>2</th>\n",
       "      <td>201900000001</td>\n",
       "      <td>30</td>\n",
       "      <td>11</td>\n",
       "      <td>2019</td>\n",
       "      <td>01:30</td>\n",
       "      <td>4</td>\n",
       "      <td>93</td>\n",
       "      <td>93053</td>\n",
       "      <td>1</td>\n",
       "      <td>1</td>\n",
       "      <td>...</td>\n",
       "      <td>1</td>\n",
       "      <td>1</td>\n",
       "      <td>1959</td>\n",
       "      <td>0</td>\n",
       "      <td>1</td>\n",
       "      <td>0</td>\n",
       "      <td>-1</td>\n",
       "      <td>-1</td>\n",
       "      <td>-1</td>\n",
       "      <td>-1</td>\n",
       "    </tr>\n",
       "    <tr>\n",
       "      <th>3</th>\n",
       "      <td>201900000001</td>\n",
       "      <td>30</td>\n",
       "      <td>11</td>\n",
       "      <td>2019</td>\n",
       "      <td>01:30</td>\n",
       "      <td>4</td>\n",
       "      <td>93</td>\n",
       "      <td>93053</td>\n",
       "      <td>1</td>\n",
       "      <td>1</td>\n",
       "      <td>...</td>\n",
       "      <td>4</td>\n",
       "      <td>2</td>\n",
       "      <td>2002</td>\n",
       "      <td>0</td>\n",
       "      <td>1</td>\n",
       "      <td>0</td>\n",
       "      <td>-1</td>\n",
       "      <td>-1</td>\n",
       "      <td>-1</td>\n",
       "      <td>-1</td>\n",
       "    </tr>\n",
       "    <tr>\n",
       "      <th>4</th>\n",
       "      <td>201900000001</td>\n",
       "      <td>30</td>\n",
       "      <td>11</td>\n",
       "      <td>2019</td>\n",
       "      <td>01:30</td>\n",
       "      <td>4</td>\n",
       "      <td>93</td>\n",
       "      <td>93053</td>\n",
       "      <td>1</td>\n",
       "      <td>1</td>\n",
       "      <td>...</td>\n",
       "      <td>4</td>\n",
       "      <td>2</td>\n",
       "      <td>1993</td>\n",
       "      <td>5</td>\n",
       "      <td>1</td>\n",
       "      <td>0</td>\n",
       "      <td>-1</td>\n",
       "      <td>-1</td>\n",
       "      <td>-1</td>\n",
       "      <td>-1</td>\n",
       "    </tr>\n",
       "  </tbody>\n",
       "</table>\n",
       "<p>5 rows × 56 columns</p>\n",
       "</div>"
      ],
      "text/plain": [
       "        Num_Acc  jour  mois    an   hrmn  lum dep    com  agg  int  ...  grav  \\\n",
       "0  201900000001    30    11  2019  01:30    4  93  93053    1    1  ...     4   \n",
       "1  201900000001    30    11  2019  01:30    4  93  93053    1    1  ...     4   \n",
       "2  201900000001    30    11  2019  01:30    4  93  93053    1    1  ...     1   \n",
       "3  201900000001    30    11  2019  01:30    4  93  93053    1    1  ...     4   \n",
       "4  201900000001    30    11  2019  01:30    4  93  93053    1    1  ...     4   \n",
       "\n",
       "   sexe an_nais trajet secu1 secu2 secu3  locp  actp  etatp  \n",
       "0     2    2002      0     1     0    -1    -1    -1     -1  \n",
       "1     2    1993      5     1     0    -1    -1    -1     -1  \n",
       "2     1    1959      0     1     0    -1    -1    -1     -1  \n",
       "3     2    2002      0     1     0    -1    -1    -1     -1  \n",
       "4     2    1993      5     1     0    -1    -1    -1     -1  \n",
       "\n",
       "[5 rows x 56 columns]"
      ]
     },
     "execution_count": 13,
     "metadata": {},
     "output_type": "execute_result"
    }
   ],
   "source": [
    "df.head()\n"
   ]
  },
  {
   "cell_type": "code",
   "execution_count": 14,
   "metadata": {},
   "outputs": [
    {
     "data": {
      "text/plain": [
       "(253488, 56)"
      ]
     },
     "execution_count": 14,
     "metadata": {},
     "output_type": "execute_result"
    }
   ],
   "source": [
    "df.shape"
   ]
  },
  {
   "cell_type": "code",
   "execution_count": 15,
   "metadata": {
    "collapsed": true
   },
   "outputs": [],
   "source": [
    "df.shape\n",
    "df=df.drop(columns='an')"
   ]
  },
  {
   "cell_type": "code",
   "execution_count": 16,
   "metadata": {},
   "outputs": [
    {
     "data": {
      "text/plain": [
       "Index(['Num_Acc', 'jour', 'mois', 'hrmn', 'lum', 'dep', 'com', 'agg', 'int',\n",
       "       'atm', 'col', 'adr', 'lat', 'long', 'id_vehicule_x', 'num_veh_x',\n",
       "       'senc', 'catv', 'obs', 'obsm', 'choc', 'manv', 'motor', 'occutc',\n",
       "       'catr', 'voie', 'v1', 'v2', 'circ', 'nbv', 'vosp', 'prof', 'pr', 'pr1',\n",
       "       'plan', 'lartpc', 'larrout', 'surf', 'infra', 'situ', 'vma',\n",
       "       'id_vehicule_y', 'num_veh_y', 'place', 'catu', 'grav', 'sexe',\n",
       "       'an_nais', 'trajet', 'secu1', 'secu2', 'secu3', 'locp', 'actp',\n",
       "       'etatp'],\n",
       "      dtype='object')"
      ]
     },
     "execution_count": 16,
     "metadata": {},
     "output_type": "execute_result"
    }
   ],
   "source": [
    "df.columns"
   ]
  },
  {
   "cell_type": "code",
   "execution_count": 17,
   "metadata": {},
   "outputs": [
    {
     "data": {
      "text/plain": [
       "253488"
      ]
     },
     "execution_count": 17,
     "metadata": {},
     "output_type": "execute_result"
    }
   ],
   "source": [
    "np.count_nonzero(df.isnull().sum(axis = 1).values)\n",
    "#il y'a toujours au moins une valeurmanquante donc on ne peut pas supprimer les lignes ac valeurs manquantes \n",
    "# regardons les colonnes qui ont torp de valeurs manquantes, on les drop "
   ]
  },
  {
   "cell_type": "code",
   "execution_count": 18,
   "metadata": {},
   "outputs": [
    {
     "data": {
      "text/plain": [
       "Num_Acc               0\n",
       "jour                  0\n",
       "mois                  0\n",
       "hrmn                  0\n",
       "lum                   0\n",
       "dep                   0\n",
       "com                   0\n",
       "agg                   0\n",
       "int                   0\n",
       "atm                   0\n",
       "col                   0\n",
       "adr                2021\n",
       "lat                   0\n",
       "long                  0\n",
       "id_vehicule_x         0\n",
       "num_veh_x             0\n",
       "senc                  0\n",
       "catv                  0\n",
       "obs                   0\n",
       "obsm                  0\n",
       "choc                  0\n",
       "manv                  0\n",
       "motor                 0\n",
       "occutc           250730\n",
       "catr                  0\n",
       "voie               9400\n",
       "v1                44935\n",
       "v2               234282\n",
       "circ                  0\n",
       "nbv                   0\n",
       "vosp                  0\n",
       "prof                  0\n",
       "pr                    0\n",
       "pr1                   0\n",
       "plan                  0\n",
       "lartpc           252606\n",
       "larrout          251969\n",
       "surf                  0\n",
       "infra                 0\n",
       "situ                  0\n",
       "vma                   0\n",
       "id_vehicule_y         0\n",
       "num_veh_y             0\n",
       "place                 0\n",
       "catu                  0\n",
       "grav                  0\n",
       "sexe                  0\n",
       "an_nais               0\n",
       "trajet                0\n",
       "secu1                 0\n",
       "secu2                 0\n",
       "secu3                 0\n",
       "locp                  0\n",
       "actp                  0\n",
       "etatp                 0\n",
       "dtype: int64"
      ]
     },
     "execution_count": 18,
     "metadata": {},
     "output_type": "execute_result"
    }
   ],
   "source": [
    "nan_col=df.isna().sum()\n",
    "nan_col"
   ]
  },
  {
   "cell_type": "code",
   "execution_count": 19,
   "metadata": {},
   "outputs": [
    {
     "data": {
      "text/plain": [
       "Num_Acc           0.000000\n",
       "nbv               0.000000\n",
       "vosp              0.000000\n",
       "prof              0.000000\n",
       "pr                0.000000\n",
       "pr1               0.000000\n",
       "plan              0.000000\n",
       "surf              0.000000\n",
       "infra             0.000000\n",
       "situ              0.000000\n",
       "vma               0.000000\n",
       "circ              0.000000\n",
       "id_vehicule_y     0.000000\n",
       "place             0.000000\n",
       "catu              0.000000\n",
       "grav              0.000000\n",
       "sexe              0.000000\n",
       "an_nais           0.000000\n",
       "trajet            0.000000\n",
       "secu1             0.000000\n",
       "secu2             0.000000\n",
       "secu3             0.000000\n",
       "locp              0.000000\n",
       "num_veh_y         0.000000\n",
       "actp              0.000000\n",
       "etatp             0.000000\n",
       "long              0.000000\n",
       "com               0.000000\n",
       "agg               0.000000\n",
       "int               0.000000\n",
       "atm               0.000000\n",
       "col               0.000000\n",
       "lat               0.000000\n",
       "id_vehicule_x     0.000000\n",
       "num_veh_x         0.000000\n",
       "dep               0.000000\n",
       "senc              0.000000\n",
       "mois              0.000000\n",
       "catv              0.000000\n",
       "obs               0.000000\n",
       "obsm              0.000000\n",
       "choc              0.000000\n",
       "manv              0.000000\n",
       "motor             0.000000\n",
       "jour              0.000000\n",
       "catr              0.000000\n",
       "hrmn              0.000000\n",
       "lum               0.000000\n",
       "adr               0.797276\n",
       "voie              3.708262\n",
       "v1               17.726677\n",
       "v2               92.423310\n",
       "occutc           98.911980\n",
       "larrout          99.400761\n",
       "lartpc           99.652055\n",
       "dtype: float64"
      ]
     },
     "execution_count": 19,
     "metadata": {},
     "output_type": "execute_result"
    }
   ],
   "source": [
    "nan_col=(nan_col.sort_values(ascending=True)/253488)*100\n",
    "nan_col"
   ]
  },
  {
   "cell_type": "code",
   "execution_count": 20,
   "metadata": {},
   "outputs": [
    {
     "data": {
      "image/png": "[encoded data removed]",
      "text/plain": [
       "<Figure size 360x720 with 1 Axes>"
      ]
     },
     "metadata": {
      "needs_background": "light"
     },
     "output_type": "display_data"
    }
   ],
   "source": [
    "nan_col.plot.barh(figsize=(5,10))\n",
    "plt.show(block=True)"
   ]
  },
  {
   "cell_type": "code",
   "execution_count": 21,
   "metadata": {},
   "outputs": [],
   "source": [
    "nan_columns=['lartpc','larrout','occutc','v2','v1','voie'] #ajouter adr????\n",
    "# voie seulement à 3% mais numéro de la route: utilité????\n",
    "# adr à 0.8% seulement adr= adresse postale pour les accidents en agglomération, string du type autoroute ... a...\n",
    "df=df.drop(columns=nan_columns)"
   ]
  },
  {
   "cell_type": "code",
   "execution_count": 22,
   "metadata": {},
   "outputs": [
    {
     "data": {
      "text/plain": [
       "2021"
      ]
     },
     "execution_count": 22,
     "metadata": {},
     "output_type": "execute_result"
    }
   ],
   "source": [
    "np.count_nonzero(df.isnull().sum(axis = 1).values)\n",
    "# --> plus aucune valeur manquante"
   ]
  },
  {
   "cell_type": "code",
   "execution_count": 23,
   "metadata": {},
   "outputs": [
    {
     "data": {
      "text/plain": [
       "(253488, 49)"
      ]
     },
     "execution_count": 23,
     "metadata": {},
     "output_type": "execute_result"
    }
   ],
   "source": [
    "df.shape"
   ]
  },
  {
   "cell_type": "code",
   "execution_count": 24,
   "metadata": {},
   "outputs": [],
   "source": [
    "#attention certaines variables ont des valeurs manquantes codées = 'non renseignée' \n",
    "#on vérifie une à une "
   ]
  },
  {
   "cell_type": "code",
   "execution_count": 25,
   "metadata": {},
   "outputs": [
    {
     "data": {
      "text/plain": [
       " 1    79.599823\n",
       " 2    10.843511\n",
       " 8     3.586758\n",
       " 3     2.308591\n",
       " 7     1.637158\n",
       " 4     0.659992\n",
       " 9     0.559790\n",
       " 5     0.547955\n",
       " 6     0.256028\n",
       "-1     0.000394\n",
       "Name: atm, dtype: float64"
      ]
     },
     "execution_count": 25,
     "metadata": {},
     "output_type": "execute_result"
    }
   ],
   "source": [
    "df['atm'].value_counts()/253488*100\n",
    "#négligeable"
   ]
  },
  {
   "cell_type": "code",
   "execution_count": 26,
   "metadata": {},
   "outputs": [
    {
     "data": {
      "text/plain": [
       " 2    57.907278\n",
       " 3    19.161065\n",
       " 1    17.590576\n",
       "-1     4.691346\n",
       " 4     0.649735\n",
       "Name: circ, dtype: float64"
      ]
     },
     "execution_count": 26,
     "metadata": {},
     "output_type": "execute_result"
    }
   ],
   "source": [
    "df['circ'].value_counts()/253488*100\n",
    "#presque 5% on supprime? (utilité de la variable: régime de circulation)"
   ]
  },
  {
   "cell_type": "code",
   "execution_count": 27,
   "metadata": {},
   "outputs": [
    {
     "data": {
      "text/plain": [
       " 0    91.849713\n",
       " 1     2.945702\n",
       " 3     2.783564\n",
       " 2     1.399672\n",
       "-1     1.021350\n",
       "Name: vosp, dtype: float64"
      ]
     },
     "execution_count": 27,
     "metadata": {},
     "output_type": "execute_result"
    }
   ],
   "source": [
    "df['vosp'].value_counts()/253488*100\n",
    "#1%: négligeable \n",
    "#garder ou pas? Signale l’existence d’une voie réservée, indépendamment du fait que l’accident ait lieu ou non sur\n",
    "#cette voie.\n",
    "#(je pense que oui)"
   ]
  },
  {
   "cell_type": "code",
   "execution_count": 28,
   "metadata": {},
   "outputs": [
    {
     "data": {
      "text/plain": [
       " 1    81.038156\n",
       " 2    15.451619\n",
       " 3     1.834406\n",
       " 4     1.650966\n",
       "-1     0.024853\n",
       "Name: prof, dtype: float64"
      ]
     },
     "execution_count": 28,
     "metadata": {},
     "output_type": "execute_result"
    }
   ],
   "source": [
    "df['prof'].value_counts()/253488*100\n",
    "#on garde (prof=déclivité du terrain )"
   ]
  },
  {
   "cell_type": "code",
   "execution_count": 29,
   "metadata": {},
   "outputs": [
    {
     "data": {
      "text/plain": [
       " 1    83.662343\n",
       " 3     7.835874\n",
       " 2     7.392460\n",
       " 4     1.100644\n",
       "-1     0.008679\n",
       "Name: plan, dtype: float64"
      ]
     },
     "execution_count": 29,
     "metadata": {},
     "output_type": "execute_result"
    }
   ],
   "source": [
    "df['plan'].value_counts()/253488*100\n",
    "#on garde= tracé de la route: droite / courbe droite/ courbe gauche -> peut être rassemblée les deux courbes"
   ]
  },
  {
   "cell_type": "code",
   "execution_count": 30,
   "metadata": {},
   "outputs": [
    {
     "data": {
      "text/plain": [
       " 1    80.303210\n",
       " 2    18.242678\n",
       " 9     0.481285\n",
       " 7     0.395679\n",
       " 5     0.201587\n",
       " 3     0.158193\n",
       " 8     0.129789\n",
       " 4     0.035110\n",
       " 6     0.030376\n",
       "-1     0.022092\n",
       "Name: surf, dtype: float64"
      ]
     },
     "execution_count": 30,
     "metadata": {},
     "output_type": "execute_result"
    }
   ],
   "source": [
    "df['surf'].value_counts()/253488*100\n",
    "#on garde= état de la route mouillée- humide..."
   ]
  },
  {
   "cell_type": "code",
   "execution_count": 31,
   "metadata": {},
   "outputs": [
    {
     "data": {
      "text/plain": [
       " 0    83.052847\n",
       " 5     5.979770\n",
       " 9     3.183583\n",
       " 2     2.389462\n",
       " 1     1.694755\n",
       " 3     1.685681\n",
       " 8     0.896689\n",
       " 6     0.579120\n",
       " 4     0.397652\n",
       " 7     0.078110\n",
       "-1     0.062330\n",
       "Name: infra, dtype: float64"
      ]
     },
     "execution_count": 31,
     "metadata": {},
     "output_type": "execute_result"
    }
   ],
   "source": [
    "df['infra'].value_counts()/253488*100\n",
    "#on garde= route/infrastrucute (tunnel-péage...)"
   ]
  },
  {
   "cell_type": "code",
   "execution_count": 32,
   "metadata": {},
   "outputs": [
    {
     "data": {
      "text/plain": [
       " 1    91.727025\n",
       " 3     3.865272\n",
       " 2     1.300653\n",
       " 8     1.065928\n",
       " 5     0.740074\n",
       " 6     0.650918\n",
       " 4     0.525469\n",
       "-1     0.124661\n",
       "Name: situ, dtype: float64"
      ]
     },
     "execution_count": 32,
     "metadata": {},
     "output_type": "execute_result"
    }
   ],
   "source": [
    "df['situ'].value_counts()/253488*100\n",
    "#on garde"
   ]
  },
  {
   "cell_type": "code",
   "execution_count": 33,
   "metadata": {},
   "outputs": [
    {
     "data": {
      "text/plain": [
       " 1    44.671148\n",
       " 2    34.740106\n",
       " 3    13.877974\n",
       " 0     6.675267\n",
       "-1     0.035505\n",
       "Name: senc, dtype: float64"
      ]
     },
     "execution_count": 33,
     "metadata": {},
     "output_type": "execute_result"
    }
   ],
   "source": [
    "df['senc'].value_counts()/253488*100\n",
    "#sens de circulation PK PR???? inconnu et absence de repère différence?\n",
    "#1 – Non renseigné\n",
    "#0 – Inconnu\n",
    "#1 – PK ou PR ou numéro d’adresse postale croissant\n",
    "#2 – PK ou PR ou numéro d’adresse postale décroissant\n",
    "#3 – Absence de repère"
   ]
  },
  {
   "cell_type": "code",
   "execution_count": 34,
   "metadata": {},
   "outputs": [
    {
     "data": {
      "text/plain": [
       " 0     88.417992\n",
       " 1      2.118049\n",
       " 3      1.396516\n",
       " 13     1.293947\n",
       " 4      1.129837\n",
       " 2      0.976378\n",
       " 6      0.825680\n",
       " 8      0.804377\n",
       " 14     0.775185\n",
       " 12     0.509294\n",
       " 15     0.408303\n",
       " 9      0.334927\n",
       " 16     0.280881\n",
       " 7      0.248927\n",
       " 11     0.140046\n",
       " 5      0.121505\n",
       " 17     0.095074\n",
       " 10     0.087973\n",
       "-1      0.035110\n",
       "Name: obs, dtype: float64"
      ]
     },
     "execution_count": 34,
     "metadata": {},
     "output_type": "execute_result"
    }
   ],
   "source": [
    "df['obs'].value_counts()/253488*100\n",
    "#on garde"
   ]
  },
  {
   "cell_type": "code",
   "execution_count": 35,
   "metadata": {},
   "outputs": [
    {
     "data": {
      "text/plain": [
       " 2    75.915625\n",
       " 0    13.899277\n",
       " 1     8.586205\n",
       " 9     0.826075\n",
       " 6     0.581093\n",
       " 4     0.077321\n",
       "-1     0.076532\n",
       " 5     0.037872\n",
       "Name: obsm, dtype: float64"
      ]
     },
     "execution_count": 35,
     "metadata": {},
     "output_type": "execute_result"
    }
   ],
   "source": [
    "df['obsm'].value_counts()/253488*100\n",
    "#on garde"
   ]
  },
  {
   "cell_type": "code",
   "execution_count": 36,
   "metadata": {},
   "outputs": [
    {
     "data": {
      "text/plain": [
       " 1    35.735419\n",
       " 3    14.789655\n",
       " 4    13.055845\n",
       " 2    11.397384\n",
       " 8     6.620826\n",
       " 7     5.339503\n",
       " 0     4.715805\n",
       " 6     3.911033\n",
       " 5     3.021839\n",
       " 9     1.367718\n",
       "-1     0.044973\n",
       "Name: choc, dtype: float64"
      ]
     },
     "execution_count": 36,
     "metadata": {},
     "output_type": "execute_result"
    }
   ],
   "source": [
    "df['choc'].value_counts()/253488*100\n",
    "#on garde"
   ]
  },
  {
   "cell_type": "code",
   "execution_count": 37,
   "metadata": {},
   "outputs": [
    {
     "data": {
      "text/plain": [
       " 1     39.661444\n",
       " 2     14.461829\n",
       " 15     7.543947\n",
       " 0      5.412091\n",
       " 13     4.480291\n",
       " 23     3.524033\n",
       " 17     3.418308\n",
       " 26     3.212775\n",
       " 9      2.722022\n",
       " 19     2.357114\n",
       " 16     2.175645\n",
       " 14     1.570094\n",
       " 21     1.453323\n",
       " 11     1.174020\n",
       " 5      1.152323\n",
       " 12     1.119580\n",
       " 3      1.102616\n",
       " 10     0.696285\n",
       " 18     0.518762\n",
       " 20     0.503377\n",
       " 24     0.441836\n",
       " 4      0.403175\n",
       " 22     0.299028\n",
       " 7      0.221707\n",
       " 25     0.173578\n",
       " 6      0.126239\n",
       "-1      0.037477\n",
       " 8      0.037083\n",
       "Name: manv, dtype: float64"
      ]
     },
     "execution_count": 37,
     "metadata": {},
     "output_type": "execute_result"
    }
   ],
   "source": [
    "df['manv'].value_counts()/253488*100\n",
    "#ici manoeuvre principale avant l'accident 0=inconnue 1=non renseignée, la + des 2= 5.5%, différence? "
   ]
  },
  {
   "cell_type": "code",
   "execution_count": 38,
   "metadata": {},
   "outputs": [
    {
     "data": {
      "text/plain": [
       " 1    82.400745\n",
       " 0    10.363410\n",
       " 5     3.451445\n",
       " 6     1.386259\n",
       " 3     1.261204\n",
       " 2     0.768084\n",
       "-1     0.298239\n",
       " 4     0.070615\n",
       "Name: motor, dtype: float64"
      ]
     },
     "execution_count": 38,
     "metadata": {},
     "output_type": "execute_result"
    }
   ],
   "source": [
    "df['motor'].value_counts()/253488*100\n",
    "#type de moteur "
   ]
  },
  {
   "cell_type": "code",
   "execution_count": 39,
   "metadata": {},
   "outputs": [
    {
     "data": {
      "text/plain": [
       " 5    37.615982\n",
       "-1    27.216278\n",
       " 1    13.743057\n",
       " 4    10.154721\n",
       " 9     7.102900\n",
       " 3     2.359086\n",
       " 2     1.807975\n",
       "Name: trajet, dtype: float64"
      ]
     },
     "execution_count": 39,
     "metadata": {},
     "output_type": "execute_result"
    }
   ],
   "source": [
    "#variable trajet: motif du trajet, on remplace 0 par _1 car les sont 'non renseignés'\n",
    "df['trajet']=df['trajet'].replace([0],-1)\n",
    "df['trajet'].value_counts()/253488*100\n",
    "#-> 27% de non renseigné: on supprime 'trajet'"
   ]
  },
  {
   "cell_type": "code",
   "execution_count": 40,
   "metadata": {},
   "outputs": [
    {
     "data": {
      "text/plain": [
       " 1    65.627170\n",
       " 2    17.663953\n",
       " 8    11.807660\n",
       " 0     3.675125\n",
       " 3     0.803588\n",
       " 9     0.140046\n",
       " 5     0.092707\n",
       " 6     0.074954\n",
       " 4     0.060358\n",
       "-1     0.052468\n",
       " 7     0.001972\n",
       "Name: secu1, dtype: float64"
      ]
     },
     "execution_count": 40,
     "metadata": {},
     "output_type": "execute_result"
    }
   ],
   "source": [
    "df['secu1'].value_counts()/253488*100\n",
    "#garde"
   ]
  },
  {
   "cell_type": "code",
   "execution_count": 41,
   "metadata": {},
   "outputs": [
    {
     "data": {
      "text/plain": [
       " 0    44.655763\n",
       "-1    29.097630\n",
       " 8    14.442893\n",
       " 6     8.525847\n",
       " 5     1.413874\n",
       " 4     0.960598\n",
       " 9     0.262734\n",
       " 2     0.237881\n",
       " 7     0.165688\n",
       " 1     0.148330\n",
       " 3     0.088762\n",
       "Name: secu2, dtype: float64"
      ]
     },
     "execution_count": 41,
     "metadata": {},
     "output_type": "execute_result"
    }
   ],
   "source": [
    "df['secu2'].value_counts()/253488*100\n",
    "#30% non renseigné pour utilisation d'un 2eme equipement\n",
    "#on garde?"
   ]
  },
  {
   "cell_type": "code",
   "execution_count": 42,
   "metadata": {},
   "outputs": [
    {
     "data": {
      "text/plain": [
       "-1    98.916714\n",
       " 9     0.629221\n",
       " 0     0.334927\n",
       " 8     0.050890\n",
       " 6     0.040239\n",
       " 4     0.010257\n",
       " 1     0.009862\n",
       " 3     0.003550\n",
       " 5     0.002761\n",
       " 2     0.001578\n",
       "Name: secu3, dtype: float64"
      ]
     },
     "execution_count": 42,
     "metadata": {},
     "output_type": "execute_result"
    }
   ],
   "source": [
    "df['secu3'].value_counts()/253488*100\n",
    "#on drop secu3"
   ]
  },
  {
   "cell_type": "code",
   "execution_count": null,
   "metadata": {},
   "outputs": [],
   "source": [
    "df['locp'].value_counts()/253488*100\n",
    "#localisation piéton: 41% du temps non renseigné 53% sans objet, donc seulement 87% des accidents qui impliquent un piéton\n",
    "#on a pas la position de ce dernier \n",
    "# on drop"
   ]
  },
  {
   "cell_type": "code",
   "execution_count": null,
   "metadata": {},
   "outputs": [],
   "source": [
    "df['actp'].value_counts()/253488*100\n",
    "#pareil 21% non renseigné, 73% sans objet donc 78% des cas ou c'est relevant on a pas l'info \n",
    "#on drop\n"
   ]
  },
  {
   "cell_type": "code",
   "execution_count": null,
   "metadata": {},
   "outputs": [],
   "source": [
    "df['etatp'].value_counts()/253488*100\n",
    "#pareil 95% du temps non renseigné \n",
    "# on doit drop toutes les info concernant le piéton --> on aura la sévérité en fonction des info véhicules- conducteur...."
   ]
  },
  {
   "cell_type": "code",
   "execution_count": 46,
   "metadata": {
    "collapsed": true
   },
   "outputs": [],
   "source": [
    "df=df.drop(columns=['trajet','secu2','secu3','actp','etatp'])"
   ]
  },
  {
   "cell_type": "code",
   "execution_count": 47,
   "metadata": {},
   "outputs": [
    {
     "data": {
      "text/plain": [
       "(253488, 44)"
      ]
     },
     "execution_count": 47,
     "metadata": {},
     "output_type": "execute_result"
    }
   ],
   "source": [
    "df.shape"
   ]
  },
  {
   "cell_type": "code",
   "execution_count": null,
   "metadata": {
    "collapsed": true
   },
   "outputs": [],
   "source": []
  }
 ],
 "metadata": {
  "kernelspec": {
   "display_name": "Python 3",
   "language": "python",
   "name": "python3"
  },
  "language_info": {
   "codemirror_mode": {
    "name": "ipython",
    "version": 3
   },
   "file_extension": ".py",
   "mimetype": "text/x-python",
   "name": "python",
   "nbconvert_exporter": "python",
   "pygments_lexer": "ipython3",
   "version": "3.8.8"
  }
 },
 "nbformat": 4,
 "nbformat_minor": 2
}
