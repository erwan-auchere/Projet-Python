{
 "cells": [
  {
   "cell_type": "code",
   "execution_count": 32,
   "metadata": {},
   "outputs": [],
   "source": [
    "import numpy as np\n",
    "import pandas as pd\n",
    "import seaborn as sns\n",
    "import matplotlib.pyplot as plt"
   ]
  },
  {
   "cell_type": "code",
   "execution_count": 33,
   "metadata": {},
   "outputs": [],
   "source": [
    "caracteristiques = pd.read_csv('https://www.data.gouv.fr/fr/datasets/r/e22ba475-45a3-46ac-a0f7-9ca9ed1e283a', sep=';')\n",
    "lieux = pd.read_csv('https://www.data.gouv.fr/fr/datasets/r/2ad65965-36a1-4452-9c08-61a6c874e3e6', sep=';')\n",
    "vehicules = pd.read_csv('https://www.data.gouv.fr/fr/datasets/r/780cd335-5048-4bd6-a841-105b44eb2667', sep=';')\n",
    "usagers = pd.read_csv('https://www.data.gouv.fr/fr/datasets/r/36b1b7b3-84b4-4901-9163-59ae8a9e3028', sep=';')"
   ]
  },
  {
   "cell_type": "markdown",
   "metadata": {},
   "source": [
    "# Fusion des bases"
   ]
  },
  {
   "cell_type": "code",
   "execution_count": 34,
   "metadata": {},
   "outputs": [
    {
     "data": {
      "text/html": [
       "<div>\n",
       "<style scoped>\n",
       "    .dataframe tbody tr th:only-of-type {\n",
       "        vertical-align: middle;\n",
       "    }\n",
       "\n",
       "    .dataframe tbody tr th {\n",
       "        vertical-align: top;\n",
       "    }\n",
       "\n",
       "    .dataframe thead th {\n",
       "        text-align: right;\n",
       "    }\n",
       "</style>\n",
       "<table border=\"1\" class=\"dataframe\">\n",
       "  <thead>\n",
       "    <tr style=\"text-align: right;\">\n",
       "      <th></th>\n",
       "      <th>Num_Acc</th>\n",
       "      <th>id_vehicule</th>\n",
       "      <th>num_veh</th>\n",
       "      <th>place</th>\n",
       "      <th>catu</th>\n",
       "      <th>grav</th>\n",
       "      <th>sexe</th>\n",
       "      <th>an_nais</th>\n",
       "      <th>trajet</th>\n",
       "      <th>secu1</th>\n",
       "      <th>...</th>\n",
       "      <th>prof</th>\n",
       "      <th>pr</th>\n",
       "      <th>pr1</th>\n",
       "      <th>plan</th>\n",
       "      <th>lartpc</th>\n",
       "      <th>larrout</th>\n",
       "      <th>surf</th>\n",
       "      <th>infra</th>\n",
       "      <th>situ</th>\n",
       "      <th>vma</th>\n",
       "    </tr>\n",
       "  </thead>\n",
       "  <tbody>\n",
       "    <tr>\n",
       "      <th>0</th>\n",
       "      <td>201900000001</td>\n",
       "      <td>138 306 524</td>\n",
       "      <td>B01</td>\n",
       "      <td>2</td>\n",
       "      <td>2</td>\n",
       "      <td>4</td>\n",
       "      <td>2</td>\n",
       "      <td>2002</td>\n",
       "      <td>0.0</td>\n",
       "      <td>1.0</td>\n",
       "      <td>...</td>\n",
       "      <td>1.0</td>\n",
       "      <td>6</td>\n",
       "      <td>900</td>\n",
       "      <td>2.0</td>\n",
       "      <td>NaN</td>\n",
       "      <td>NaN</td>\n",
       "      <td>1.0</td>\n",
       "      <td>2.0</td>\n",
       "      <td>1.0</td>\n",
       "      <td>70.0</td>\n",
       "    </tr>\n",
       "    <tr>\n",
       "      <th>1</th>\n",
       "      <td>201900000001</td>\n",
       "      <td>138 306 524</td>\n",
       "      <td>B01</td>\n",
       "      <td>1</td>\n",
       "      <td>1</td>\n",
       "      <td>4</td>\n",
       "      <td>2</td>\n",
       "      <td>1993</td>\n",
       "      <td>5.0</td>\n",
       "      <td>1.0</td>\n",
       "      <td>...</td>\n",
       "      <td>1.0</td>\n",
       "      <td>6</td>\n",
       "      <td>900</td>\n",
       "      <td>2.0</td>\n",
       "      <td>NaN</td>\n",
       "      <td>NaN</td>\n",
       "      <td>1.0</td>\n",
       "      <td>2.0</td>\n",
       "      <td>1.0</td>\n",
       "      <td>70.0</td>\n",
       "    </tr>\n",
       "    <tr>\n",
       "      <th>2</th>\n",
       "      <td>201900000001</td>\n",
       "      <td>138 306 525</td>\n",
       "      <td>A01</td>\n",
       "      <td>1</td>\n",
       "      <td>1</td>\n",
       "      <td>1</td>\n",
       "      <td>1</td>\n",
       "      <td>1959</td>\n",
       "      <td>0.0</td>\n",
       "      <td>1.0</td>\n",
       "      <td>...</td>\n",
       "      <td>1.0</td>\n",
       "      <td>6</td>\n",
       "      <td>900</td>\n",
       "      <td>2.0</td>\n",
       "      <td>NaN</td>\n",
       "      <td>NaN</td>\n",
       "      <td>1.0</td>\n",
       "      <td>2.0</td>\n",
       "      <td>1.0</td>\n",
       "      <td>70.0</td>\n",
       "    </tr>\n",
       "    <tr>\n",
       "      <th>3</th>\n",
       "      <td>201900000002</td>\n",
       "      <td>138 306 523</td>\n",
       "      <td>A01</td>\n",
       "      <td>1</td>\n",
       "      <td>1</td>\n",
       "      <td>4</td>\n",
       "      <td>2</td>\n",
       "      <td>1994</td>\n",
       "      <td>0.0</td>\n",
       "      <td>1.0</td>\n",
       "      <td>...</td>\n",
       "      <td>4.0</td>\n",
       "      <td>3</td>\n",
       "      <td>845</td>\n",
       "      <td>2.0</td>\n",
       "      <td>NaN</td>\n",
       "      <td>NaN</td>\n",
       "      <td>1.0</td>\n",
       "      <td>0.0</td>\n",
       "      <td>1.0</td>\n",
       "      <td>70.0</td>\n",
       "    </tr>\n",
       "    <tr>\n",
       "      <th>4</th>\n",
       "      <td>201900000003</td>\n",
       "      <td>138 306 520</td>\n",
       "      <td>A01</td>\n",
       "      <td>1</td>\n",
       "      <td>1</td>\n",
       "      <td>1</td>\n",
       "      <td>1</td>\n",
       "      <td>1996</td>\n",
       "      <td>0.0</td>\n",
       "      <td>1.0</td>\n",
       "      <td>...</td>\n",
       "      <td>1.0</td>\n",
       "      <td>10</td>\n",
       "      <td>500</td>\n",
       "      <td>3.0</td>\n",
       "      <td>NaN</td>\n",
       "      <td>NaN</td>\n",
       "      <td>1.0</td>\n",
       "      <td>0.0</td>\n",
       "      <td>1.0</td>\n",
       "      <td>90.0</td>\n",
       "    </tr>\n",
       "  </tbody>\n",
       "</table>\n",
       "<p>5 rows × 56 columns</p>\n",
       "</div>"
      ],
      "text/plain": [
       "        Num_Acc  id_vehicule num_veh  place  catu  grav  sexe  an_nais  \\\n",
       "0  201900000001  138 306 524     B01      2     2     4     2     2002   \n",
       "1  201900000001  138 306 524     B01      1     1     4     2     1993   \n",
       "2  201900000001  138 306 525     A01      1     1     1     1     1959   \n",
       "3  201900000002  138 306 523     A01      1     1     4     2     1994   \n",
       "4  201900000003  138 306 520     A01      1     1     1     1     1996   \n",
       "\n",
       "   trajet  secu1  ...  prof  pr  pr1 plan  lartpc  larrout surf  infra  situ  \\\n",
       "0     0.0    1.0  ...   1.0   6  900  2.0     NaN      NaN  1.0    2.0   1.0   \n",
       "1     5.0    1.0  ...   1.0   6  900  2.0     NaN      NaN  1.0    2.0   1.0   \n",
       "2     0.0    1.0  ...   1.0   6  900  2.0     NaN      NaN  1.0    2.0   1.0   \n",
       "3     0.0    1.0  ...   4.0   3  845  2.0     NaN      NaN  1.0    0.0   1.0   \n",
       "4     0.0    1.0  ...   1.0  10  500  3.0     NaN      NaN  1.0    0.0   1.0   \n",
       "\n",
       "    vma  \n",
       "0  70.0  \n",
       "1  70.0  \n",
       "2  70.0  \n",
       "3  70.0  \n",
       "4  90.0  \n",
       "\n",
       "[5 rows x 56 columns]"
      ]
     },
     "execution_count": 34,
     "metadata": {},
     "output_type": "execute_result"
    }
   ],
   "source": [
    "data = (usagers.merge(vehicules, on='id_vehicule', suffixes=(None, '_2'))\n",
    "               .merge(caracteristiques, on='Num_Acc', suffixes=(None, '_3'))\n",
    "               .merge(lieux, on='Num_Acc')\n",
    "               .replace(-1, np.nan))\n",
    "data.head()"
   ]
  },
  {
   "cell_type": "markdown",
   "metadata": {},
   "source": [
    "## Suppression des identifiants et variables avec trop de valeurs manquantes"
   ]
  },
  {
   "cell_type": "markdown",
   "metadata": {},
   "source": [
    "On supprime tous les identifiants, sauf celui des usagers (plus l'année, qui est la même pour tous les accidents de la base)"
   ]
  },
  {
   "cell_type": "code",
   "execution_count": 35,
   "metadata": {},
   "outputs": [],
   "source": [
    "data.drop(inplace=True, columns=['Num_Acc', 'id_vehicule', 'num_veh', 'Num_Acc_2', 'num_veh_2', 'an'])"
   ]
  },
  {
   "cell_type": "markdown",
   "metadata": {},
   "source": [
    "On supprime également les variables avec trop de valeurs manquantes (identifiées dans `merge-exploration.ipynb`)"
   ]
  },
  {
   "cell_type": "code",
   "execution_count": 36,
   "metadata": {},
   "outputs": [],
   "source": [
    "data.drop(inplace=True, columns=['lartpc', 'larrout', 'occutc','v2' ,'v1' ,'voie' ,'adr', 'trajet', 'secu2', 'secu3', 'locp', 'actp', 'etatp'])"
   ]
  },
  {
   "cell_type": "markdown",
   "metadata": {},
   "source": [
    "# Transformation des variables"
   ]
  },
  {
   "cell_type": "code",
   "execution_count": 37,
   "metadata": {},
   "outputs": [
    {
     "data": {
      "text/plain": [
       "(132977, 37)"
      ]
     },
     "execution_count": 37,
     "metadata": {},
     "output_type": "execute_result"
    }
   ],
   "source": [
    "data.shape"
   ]
  },
  {
   "cell_type": "markdown",
   "metadata": {},
   "source": [
    "## Variables catégorielles"
   ]
  },
  {
   "cell_type": "markdown",
   "metadata": {},
   "source": [
    "On transforme les variables catégorielles en suite d'indicatrices :"
   ]
  },
  {
   "cell_type": "code",
   "execution_count": 38,
   "metadata": {},
   "outputs": [],
   "source": [
    "# Les variables dont le nom est précédé d'un underscore seront supprimées afin que la matrice des données soit inversible\n",
    "categories = {\n",
    "    'place': {\"À l'avant du véhicule\": [1,2,6],\n",
    "              \"À l'arrière du véhicule\": [3,4,5],\n",
    "              '_Au milieu du véhicule': [7,8,9]},\n",
    "    'catu': {'Conducteur': [1],\n",
    "             '_Passager': [2],\n",
    "             'Piéton': [3]},\n",
    "    'grav': {'Indemne': [1],\n",
    "             'Tué': [2],\n",
    "             'Blessé hospitalisé': [3],\n",
    "             'Blessé léger': [4]},\n",
    "    'sexe': {'_Homme': [1],\n",
    "             'Femme': [2]},\n",
    "    'secu1': {'_Aucun équippement': [0],\n",
    "              'Ceinture': [1],\n",
    "              'Casque': [2],\n",
    "              'Dispositif enfant': [3],\n",
    "              'Gilet réflechissant': [4],\n",
    "              'Airbag': [5,7],\n",
    "              'Gants': [6,7]},\n",
    "    'senc': {'_Sens de circulation croissant': [1],\n",
    "             'Sens de circulation décroissant': [2]},\n",
    "    'catv': {'Deux-roues non-motorisé':[1,60],\n",
    "             'Deux-roues motorisé': [2,30,31,32,33,34,41,42,43,50,80],\n",
    "             'Trois-roues': [50,80],\n",
    "             'Poids lourd': [13,14,15,16,17,21],\n",
    "             'Transport en commun': [37,38,39,40],\n",
    "             '_Véhicule léger': [3,7,10,35,36],\n",
    "             'Engin spécial': [20]},\n",
    "    'obs': {\"_Pas d'obstacle fixe\": [0,16],\n",
    "            'Obstacle : Véhicule en stationnement': [1],\n",
    "            'Obstacle : Arbre': [2],\n",
    "            'Obstacle : Glissière métallique': [3],\n",
    "            'Obstacle : Glissière en béton': [4],\n",
    "            'Obstacle : Autre glissière': [5],\n",
    "            'Obstacle : Bâtiment, mur, pile de pont': [6],\n",
    "            'Obstacle : Support de signalisation ou poste d\\'appel d\\'urgence': [7],\n",
    "            'Obstacle : Poteau': [8],\n",
    "            'Obstacle : Mobilier urbain': [9],\n",
    "            'Obstacle : Parapet': [10],\n",
    "            'Obstacle : Ilot, refuge, borne haute': [11],\n",
    "            'Obstacle : Bordure de trottoir': [12],\n",
    "            'Obstacle : Fossé, talus, paroi rocheuse': [13],\n",
    "            'Obstacle : Autre obstacle fixe sur chaussée': [14],\n",
    "            'Obstacle : Autre obstacle fixe hors chaussée': [15],\n",
    "            'Obstacle : Buse, tête d\\'aqueduc': [17]},\n",
    "    'obsm' : {\"_Pas d'obstacle mobile\": [0],\n",
    "              \"Obstacle : Piéton\": [1],\n",
    "              \"Obstacle : Véhicule en mouvement\": [2],\n",
    "              \"Obstacle : Véhicule sur rail\": [4],\n",
    "              \"Obstacle : Animal\": [5,6],\n",
    "              \"Obstacle : Autre obstacle mobile\": [9]},\n",
    "    'choc': {\"_Pas de choc\": [0],\n",
    "             \"Choc à l'avant\": [1,2,3],\n",
    "             \"Choc à l'arrière\": [4,5,6],\n",
    "             \"Choc latéral\": [7,8],\n",
    "             \"Chocs multiples\": [9]},\n",
    "    'manv': {\"_Sans changement de direction\": [1,2],\n",
    "             \"Entre deux files\": [3],\n",
    "             \"En marche arrière\": [4],\n",
    "             \"À contresens\": [5],\n",
    "             \"En franchissant le terre-plein\": [6],\n",
    "             \"Dans le couloir de bus, même sens\": [7],\n",
    "             \"Dans le couloir de bus, contresens\": [8],\n",
    "             \"En s'insérant\": [9],\n",
    "             \"En faisant demi-tour\": [10],\n",
    "             \"Changement de file\": [11,12],\n",
    "             \"Déporté\": [13,14],\n",
    "             \"En tournant\": [15,16],\n",
    "             \"En dépassant\": [17,18],\n",
    "             \"En traversant la chaussée\": [19],\n",
    "             \"En manoeuvrant pour stationner\": [20],\n",
    "             \"Pendant une manoeuvre d'évitement\": [21],\n",
    "             \"En ouvrant une porte\": [22],\n",
    "             \"À l'arrêt\": [23],\n",
    "             \"En stationnement\": [24],\n",
    "             \"En circulant sur le trottoir\": [25]},\n",
    "    'motor': {\"Moteur à hydrocarbures\": [1],\n",
    "              \"Moteur hybride\": [2],\n",
    "              \"Moteur électrique\": [3],\n",
    "              \"_Moteur à hydrogène\": [4],\n",
    "              \"Propulsion humaine\": [5]},\n",
    "    'lum': {\"_Plein jour\": [1],\n",
    "            \"Crépuscule ou aube\": [2],\n",
    "            \"Nuit sans éclairage\": [3,4],\n",
    "            \"Nuit avec éclairage\": [5]},\n",
    "    'agg': {\"_Hors agglomération\": [1],\n",
    "            \"En agglomération\": [2]},\n",
    "    'int': {\"_Hors intersection\": [1],\n",
    "            \"Intersection en X\": [2],\n",
    "            \"Intersection en T\": [3],\n",
    "            \"Intersection en Y\": [4],\n",
    "            \"Intersection à plus de 4 branches\": [5],\n",
    "            \"Giratoire\": [6],\n",
    "            \"Place\": [7],\n",
    "            \"Passage à niveau\": [8],\n",
    "            \"Autre intersection\": [9]},\n",
    "    'atm': {\"_Conditions atmosphériques normales\": [1],\n",
    "            \"Pluie légère\": [2],\n",
    "            \"Pluie forte\": [3],\n",
    "            \"Neige ou grêle\": [4],\n",
    "            \"Brouillard ou fumée\": [5],\n",
    "            \"Vent fort ou tempête\": [6],\n",
    "            \"Temps éblouissant\": [7],\n",
    "            \"Temps couvert\": [8],\n",
    "            \"Autres conditions atmosphériques\": [9]},\n",
    "    'col': {\"Collision frontale (2 véhicules)\": [1],\n",
    "            \"Collision par l'arrière (2 véhicules)\": [2],\n",
    "            \"Collision par le côté (2 véhicules)\": [3],\n",
    "            \"Collision en chaîne (3 véhicules ou plus)\": [4],\n",
    "            \"Collisions multiples (3 véhicules ou plus)\": [5],\n",
    "            \"Autre collision\": [6],\n",
    "            \"_Sans collision\": [7]},\n",
    "    'catr': {\"Autoroute\": [1],\n",
    "             \"Route nationale\": [2],\n",
    "             \"Route départementale\": [3],\n",
    "             \"Voie communale\": [4],\n",
    "             \"_Hors réseau public\": [5],\n",
    "             \"Parc de stationnement\": [6],\n",
    "             \"Routes de métropole urbaine\": [7]},\n",
    "    'circ': {\"Circulation à sens unique\": [1],\n",
    "             \"Circulation bidirectionnelle\": [2],\n",
    "             \"Circulation à chaussées séparées\": [3],\n",
    "             \"_Circulation avec voies d'affectation variables\": [4]},\n",
    "    'vosp': {\"Présence d'une voie piste/bande cyclable\": [1,2],\n",
    "             \"Présence d'une voie réservée\": [3]},\n",
    "    'prof': {\"_Route plate\": [1],\n",
    "             \"Route en pente\": [2],\n",
    "             \"Sommet de côte\": [3],\n",
    "             \"Bas de côte\": [4]},\n",
    "    'plan': {\"_Route droite\": [1],\n",
    "             \"En virage\": [2,3],\n",
    "             \"En 'S'\": [4]},\n",
    "    'surf': {\"_Surface normale\": [1],\n",
    "             \"Surface mouillée\": [2,3],\n",
    "             \"Chaussée inondée\": [4],\n",
    "             \"Chaussée enneigée\": [5],\n",
    "             \"Chaussée boueuse\": [6],\n",
    "             \"Chaussé verglacée\": [7],\n",
    "             \"Présence d'un corps gras sur la chaussée\": [8],\n",
    "             \"Autre état de la chaussée\": [9]},\n",
    "    'infra': {\"_Aucune infrastructure spéciale\": [0],\n",
    "              \"Souterrain, tunnel\": [1],\n",
    "              \"Pont, autopont\": [2],\n",
    "              \"Bretelle d'échangeur ou de raccordement\": [3],\n",
    "              \"Voie ferrée\": [4],\n",
    "              \"Carrefour aménagé\": [5],\n",
    "              \"Zone piétonne\": [6],\n",
    "              \"Zone de péage\": [7],\n",
    "              \"Chantier\": [8],\n",
    "              \"Autre type d'infrastructure\": [9]},\n",
    "    'situ': {\"_Sur chaussée\": [1],\n",
    "             \"Sur bande d'arrêt d'urgence\": [2],\n",
    "             \"Sur accotement\": [3],\n",
    "             \"Sur trottoir\": [4],\n",
    "             \"Sur piste cyclable\": [5],\n",
    "             \"Sur autre voie spéciale\": [6],\n",
    "             \"Autre lieu\": [8]}\n",
    "}"
   ]
  },
  {
   "cell_type": "code",
   "execution_count": 39,
   "metadata": {},
   "outputs": [
    {
     "data": {
      "text/html": [
       "<div>\n",
       "<style scoped>\n",
       "    .dataframe tbody tr th:only-of-type {\n",
       "        vertical-align: middle;\n",
       "    }\n",
       "\n",
       "    .dataframe tbody tr th {\n",
       "        vertical-align: top;\n",
       "    }\n",
       "\n",
       "    .dataframe thead th {\n",
       "        text-align: right;\n",
       "    }\n",
       "</style>\n",
       "<table border=\"1\" class=\"dataframe\">\n",
       "  <thead>\n",
       "    <tr style=\"text-align: right;\">\n",
       "      <th></th>\n",
       "      <th>an_nais</th>\n",
       "      <th>jour</th>\n",
       "      <th>mois</th>\n",
       "      <th>hrmn</th>\n",
       "      <th>dep</th>\n",
       "      <th>com</th>\n",
       "      <th>lat</th>\n",
       "      <th>long</th>\n",
       "      <th>nbv</th>\n",
       "      <th>pr</th>\n",
       "      <th>...</th>\n",
       "      <th>Zone de péage</th>\n",
       "      <th>Chantier</th>\n",
       "      <th>Autre type d'infrastructure</th>\n",
       "      <th>_Sur chaussée</th>\n",
       "      <th>Sur bande d'arrêt d'urgence</th>\n",
       "      <th>Sur accotement</th>\n",
       "      <th>Sur trottoir</th>\n",
       "      <th>Sur piste cyclable</th>\n",
       "      <th>Sur autre voie spéciale</th>\n",
       "      <th>Autre lieu</th>\n",
       "    </tr>\n",
       "  </thead>\n",
       "  <tbody>\n",
       "    <tr>\n",
       "      <th>0</th>\n",
       "      <td>2002</td>\n",
       "      <td>30</td>\n",
       "      <td>11</td>\n",
       "      <td>01:30</td>\n",
       "      <td>93</td>\n",
       "      <td>93053</td>\n",
       "      <td>48,8962100</td>\n",
       "      <td>2,4701200</td>\n",
       "      <td>10.0</td>\n",
       "      <td>6</td>\n",
       "      <td>...</td>\n",
       "      <td>0</td>\n",
       "      <td>0</td>\n",
       "      <td>0</td>\n",
       "      <td>1</td>\n",
       "      <td>0</td>\n",
       "      <td>0</td>\n",
       "      <td>0</td>\n",
       "      <td>0</td>\n",
       "      <td>0</td>\n",
       "      <td>0</td>\n",
       "    </tr>\n",
       "    <tr>\n",
       "      <th>1</th>\n",
       "      <td>1993</td>\n",
       "      <td>30</td>\n",
       "      <td>11</td>\n",
       "      <td>01:30</td>\n",
       "      <td>93</td>\n",
       "      <td>93053</td>\n",
       "      <td>48,8962100</td>\n",
       "      <td>2,4701200</td>\n",
       "      <td>10.0</td>\n",
       "      <td>6</td>\n",
       "      <td>...</td>\n",
       "      <td>0</td>\n",
       "      <td>0</td>\n",
       "      <td>0</td>\n",
       "      <td>1</td>\n",
       "      <td>0</td>\n",
       "      <td>0</td>\n",
       "      <td>0</td>\n",
       "      <td>0</td>\n",
       "      <td>0</td>\n",
       "      <td>0</td>\n",
       "    </tr>\n",
       "    <tr>\n",
       "      <th>2</th>\n",
       "      <td>1959</td>\n",
       "      <td>30</td>\n",
       "      <td>11</td>\n",
       "      <td>01:30</td>\n",
       "      <td>93</td>\n",
       "      <td>93053</td>\n",
       "      <td>48,8962100</td>\n",
       "      <td>2,4701200</td>\n",
       "      <td>10.0</td>\n",
       "      <td>6</td>\n",
       "      <td>...</td>\n",
       "      <td>0</td>\n",
       "      <td>0</td>\n",
       "      <td>0</td>\n",
       "      <td>1</td>\n",
       "      <td>0</td>\n",
       "      <td>0</td>\n",
       "      <td>0</td>\n",
       "      <td>0</td>\n",
       "      <td>0</td>\n",
       "      <td>0</td>\n",
       "    </tr>\n",
       "    <tr>\n",
       "      <th>3</th>\n",
       "      <td>1994</td>\n",
       "      <td>30</td>\n",
       "      <td>11</td>\n",
       "      <td>02:50</td>\n",
       "      <td>93</td>\n",
       "      <td>93066</td>\n",
       "      <td>48,9307000</td>\n",
       "      <td>2,3688000</td>\n",
       "      <td>2.0</td>\n",
       "      <td>3</td>\n",
       "      <td>...</td>\n",
       "      <td>0</td>\n",
       "      <td>0</td>\n",
       "      <td>0</td>\n",
       "      <td>1</td>\n",
       "      <td>0</td>\n",
       "      <td>0</td>\n",
       "      <td>0</td>\n",
       "      <td>0</td>\n",
       "      <td>0</td>\n",
       "      <td>0</td>\n",
       "    </tr>\n",
       "    <tr>\n",
       "      <th>4</th>\n",
       "      <td>1996</td>\n",
       "      <td>28</td>\n",
       "      <td>11</td>\n",
       "      <td>15:15</td>\n",
       "      <td>92</td>\n",
       "      <td>92036</td>\n",
       "      <td>48,9358718</td>\n",
       "      <td>2,3191744</td>\n",
       "      <td>8.0</td>\n",
       "      <td>10</td>\n",
       "      <td>...</td>\n",
       "      <td>0</td>\n",
       "      <td>0</td>\n",
       "      <td>0</td>\n",
       "      <td>1</td>\n",
       "      <td>0</td>\n",
       "      <td>0</td>\n",
       "      <td>0</td>\n",
       "      <td>0</td>\n",
       "      <td>0</td>\n",
       "      <td>0</td>\n",
       "    </tr>\n",
       "  </tbody>\n",
       "</table>\n",
       "<p>5 rows × 169 columns</p>\n",
       "</div>"
      ],
      "text/plain": [
       "   an_nais  jour  mois   hrmn dep    com         lat       long   nbv  pr  \\\n",
       "0     2002    30    11  01:30  93  93053  48,8962100  2,4701200  10.0   6   \n",
       "1     1993    30    11  01:30  93  93053  48,8962100  2,4701200  10.0   6   \n",
       "2     1959    30    11  01:30  93  93053  48,8962100  2,4701200  10.0   6   \n",
       "3     1994    30    11  02:50  93  93066  48,9307000  2,3688000   2.0   3   \n",
       "4     1996    28    11  15:15  92  92036  48,9358718  2,3191744   8.0  10   \n",
       "\n",
       "   ... Zone de péage  Chantier  Autre type d'infrastructure  _Sur chaussée  \\\n",
       "0  ...             0         0                            0              1   \n",
       "1  ...             0         0                            0              1   \n",
       "2  ...             0         0                            0              1   \n",
       "3  ...             0         0                            0              1   \n",
       "4  ...             0         0                            0              1   \n",
       "\n",
       "   Sur bande d'arrêt d'urgence  Sur accotement  Sur trottoir  \\\n",
       "0                            0               0             0   \n",
       "1                            0               0             0   \n",
       "2                            0               0             0   \n",
       "3                            0               0             0   \n",
       "4                            0               0             0   \n",
       "\n",
       "   Sur piste cyclable  Sur autre voie spéciale  Autre lieu  \n",
       "0                   0                        0           0  \n",
       "1                   0                        0           0  \n",
       "2                   0                        0           0  \n",
       "3                   0                        0           0  \n",
       "4                   0                        0           0  \n",
       "\n",
       "[5 rows x 169 columns]"
      ]
     },
     "execution_count": 39,
     "metadata": {},
     "output_type": "execute_result"
    }
   ],
   "source": [
    "for var, mods in categories.items():\n",
    "    for label, values in mods.items():\n",
    "        data[label] = data[var].isin(values).astype(int)\n",
    "    data.drop(inplace=True, columns=[var])\n",
    "data.head()"
   ]
  },
  {
   "cell_type": "markdown",
   "metadata": {},
   "source": [
    "On vérifie que les regroupements de modalités ne sont pas (trop) déséquilibrés"
   ]
  },
  {
   "cell_type": "code",
   "execution_count": 40,
   "metadata": {},
   "outputs": [
    {
     "name": "stdout",
     "output_type": "stream",
     "text": [
      "PLACE\n",
      "                         Observations\n",
      "À l'avant du véhicule          112605\n",
      "À l'arrière du véhicule          5594\n",
      "_Au milieu du véhicule           3513\n",
      "\n",
      "CATU\n",
      "            Observations\n",
      "Conducteur         97356\n",
      "_Passager          24356\n",
      "Piéton             11265\n",
      "\n",
      "SEXE\n",
      "        Observations\n",
      "_Homme         90384\n",
      "Femme          42593\n",
      "\n",
      "SECU1\n",
      "                     Observations\n",
      "_Aucun équippement           7196\n",
      "Ceinture                    80550\n",
      "Casque                      24377\n",
      "Dispositif enfant             931\n",
      "Gilet réflechissant            93\n",
      "Airbag                        147\n",
      "Gants                         112\n",
      "\n",
      "SENC\n",
      "                                 Observations\n",
      "_Sens de circulation croissant          58983\n",
      "Sens de circulation décroissant         44431\n",
      "\n",
      "CATV\n",
      "                         Observations\n",
      "Deux-roues non-motorisé          5409\n",
      "Deux-roues motorisé             25287\n",
      "Trois-roues                       995\n",
      "Poids lourd                      3635\n",
      "Transport en commun              2136\n",
      "_Véhicule léger                 95462\n",
      "Engin spécial                     250\n",
      "\n",
      "OBS\n",
      "                                                    Observations\n",
      "_Pas d'obstacle fixe                                      112390\n",
      "Obstacle : Véhicule en stationnement                        3068\n",
      "Obstacle : Arbre                                            2287\n",
      "Obstacle : Glissière métallique                             2158\n",
      "Obstacle : Glissière en béton                               2016\n",
      "Obstacle : Autre glissière                                   231\n",
      "Obstacle : Bâtiment, mur, pile de pont                      1717\n",
      "Obstacle : Support de signalisation ou poste d'...           444\n",
      "Obstacle : Poteau                                           1653\n",
      "Obstacle : Mobilier urbain                                   637\n",
      "Obstacle : Parapet                                           190\n",
      "Obstacle : Ilot, refuge, borne haute                         291\n",
      "Obstacle : Bordure de trottoir                               996\n",
      "Obstacle : Fossé, talus, paroi rocheuse                     2770\n",
      "Obstacle : Autre obstacle fixe sur chaussée                 1031\n",
      "Obstacle : Autre obstacle fixe hors chaussée                 820\n",
      "Obstacle : Buse, tête d'aqueduc                              235\n",
      "\n",
      "OBSM\n",
      "                                  Observations\n",
      "_Pas d'obstacle mobile                   25195\n",
      "Obstacle : Piéton                        20758\n",
      "Obstacle : Véhicule en mouvement         84950\n",
      "Obstacle : Véhicule sur rail                99\n",
      "Obstacle : Animal                          883\n",
      "Obstacle : Autre obstacle mobile          1003\n",
      "\n",
      "CHOC\n",
      "                  Observations\n",
      "_Pas de choc              6844\n",
      "Choc à l'avant           85441\n",
      "Choc à l'arrière         22146\n",
      "Choc latéral             16274\n",
      "Chocs multiples           2223\n",
      "\n",
      "MANV\n",
      "                                    Observations\n",
      "_Sans changement de direction              70667\n",
      "Entre deux files                            1271\n",
      "En marche arrière                            861\n",
      "À contresens                                1311\n",
      "En franchissant le terre-plein               196\n",
      "Dans le couloir de bus, même sens            350\n",
      "Dans le couloir de bus, contresens            54\n",
      "En s'insérant                               3612\n",
      "En faisant demi-tour                         882\n",
      "Changement de file                          2679\n",
      "Déporté                                     8788\n",
      "En tournant                                13945\n",
      "En dépassant                                5152\n",
      "En traversant la chaussée                   3171\n",
      "En manoeuvrant pour stationner               895\n",
      "Pendant une manoeuvre d'évitement           2163\n",
      "En ouvrant une porte                         400\n",
      "À l'arrêt                                   3644\n",
      "En stationnement                             519\n",
      "En circulant sur le trottoir                 331\n",
      "\n",
      "MOTOR\n",
      "                        Observations\n",
      "Moteur à hydrocarbures        109235\n",
      "Moteur hybride                  1076\n",
      "Moteur électrique               1922\n",
      "_Moteur à hydrogène               88\n",
      "Propulsion humaine              4707\n",
      "\n",
      "LUM\n",
      "                     Observations\n",
      "_Plein jour                 88621\n",
      "Crépuscule ou aube           8281\n",
      "Nuit sans éclairage         14878\n",
      "Nuit avec éclairage         21197\n",
      "\n",
      "AGG\n",
      "                     Observations\n",
      "_Hors agglomération         50186\n",
      "En agglomération            82791\n",
      "\n",
      "INT\n",
      "                                   Observations\n",
      "_Hors intersection                        87068\n",
      "Intersection en X                         16547\n",
      "Intersection en T                         13769\n",
      "Intersection en Y                          2859\n",
      "Intersection à plus de 4 branches           681\n",
      "Giratoire                                  4504\n",
      "Place                                      1487\n",
      "Passage à niveau                            146\n",
      "Autre intersection                         5916\n",
      "\n",
      "ATM\n",
      "                                     Observations\n",
      "_Conditions atmosphériques normales        105340\n",
      "Pluie légère                                14749\n",
      "Pluie forte                                  3244\n",
      "Neige ou grêle                                617\n",
      "Brouillard ou fumée                           723\n",
      "Vent fort ou tempête                          367\n",
      "Temps éblouissant                            2336\n",
      "Temps couvert                                4944\n",
      "Autres conditions atmosphériques              656\n",
      "\n",
      "COL\n",
      "                                            Observations\n",
      "Collision frontale (2 véhicules)                   13956\n",
      "Collision par l'arrière (2 véhicules)              17977\n",
      "Collision par le côté (2 véhicules)                40350\n",
      "Collision en chaîne (3 véhicules ou plus)           9292\n",
      "Collisions multiples (3 véhicules ou plus)          7899\n",
      "Autre collision                                    34838\n",
      "_Sans collision                                     8663\n",
      "\n",
      "CATR\n",
      "                             Observations\n",
      "Autoroute                           15915\n",
      "Route nationale                      9595\n",
      "Route départementale                47061\n",
      "Voie communale                      55157\n",
      "_Hors réseau public                   162\n",
      "Parc de stationnement                 930\n",
      "Routes de métropole urbaine          2929\n",
      "\n",
      "CIRC\n",
      "                                                 Observations\n",
      "Circulation à sens unique                               23094\n",
      "Circulation bidirectionnelle                            80818\n",
      "Circulation à chaussées séparées                        21502\n",
      "_Circulation avec voies d'affectation variables           837\n",
      "\n",
      "VOSP\n",
      "                                          Observations\n",
      "Présence d'une voie piste/bande cyclable          5975\n",
      "Présence d'une voie réservée                      3891\n",
      "\n",
      "PROF\n",
      "                Observations\n",
      "_Route plate          107390\n",
      "Route en pente         21131\n",
      "Sommet de côte          2328\n",
      "Bas de côte             2097\n",
      "\n",
      "PLAN\n",
      "               Observations\n",
      "_Route droite        109073\n",
      "En virage             22271\n",
      "En 'S'                 1617\n",
      "\n",
      "SURF\n",
      "                                          Observations\n",
      "_Surface normale                                106451\n",
      "Surface mouillée                                 24882\n",
      "Chaussée inondée                                    47\n",
      "Chaussée enneigée                                  255\n",
      "Chaussée boueuse                                    58\n",
      "Chaussé verglacée                                  434\n",
      "Présence d'un corps gras sur la chaussée           196\n",
      "Autre état de la chaussée                          614\n",
      "\n",
      "INFRA\n",
      "                                         Observations\n",
      "_Aucune infrastructure spéciale                110523\n",
      "Souterrain, tunnel                               1803\n",
      "Pont, autopont                                   2676\n",
      "Bretelle d'échangeur ou de raccordement          2079\n",
      "Voie ferrée                                       563\n",
      "Carrefour aménagé                                7878\n",
      "Zone piétonne                                    1157\n",
      "Zone de péage                                     104\n",
      "Chantier                                         1149\n",
      "Autre type d'infrastructure                      4946\n",
      "\n",
      "SITU\n",
      "                             Observations\n",
      "_Sur chaussée                      117931\n",
      "Sur bande d'arrêt d'urgence          2033\n",
      "Sur accotement                       7529\n",
      "Sur trottoir                         1180\n",
      "Sur piste cyclable                   1033\n",
      "Sur autre voie spéciale               977\n",
      "Autre lieu                           2067\n",
      "\n"
     ]
    }
   ],
   "source": [
    "for var, mods in categories.items():\n",
    "    if var != 'grav':\n",
    "        df = pd.DataFrame(index=mods, columns=['Observations'], data=[data[mod].value_counts()[1] for mod in mods])\n",
    "        print(var.upper(), df, sep='\\n', end='\\n\\n')"
   ]
  },
  {
   "cell_type": "code",
   "execution_count": 41,
   "metadata": {},
   "outputs": [],
   "source": [
    "data.drop(inplace=True, columns=[variable for variable in data.columns.tolist() if variable.startswith('_')])"
   ]
  },
  {
   "cell_type": "markdown",
   "metadata": {},
   "source": [
    "Il faut encore gérer les variables non-catégorielles : `an_nais`, `jour`, `mois`, `hrmn`, `dep`, `com`, `lat`, `long`, `nbv`, `pr`, `pr1` et `vma`"
   ]
  },
  {
   "cell_type": "markdown",
   "metadata": {},
   "source": [
    "## Variables non-catégorielles"
   ]
  },
  {
   "cell_type": "markdown",
   "metadata": {},
   "source": [
    "### Jour, mois, heure et minute"
   ]
  },
  {
   "cell_type": "code",
   "execution_count": 42,
   "metadata": {},
   "outputs": [],
   "source": [
    "data['heure'] = data.hrmn.str[:2].astype(int)\n",
    "data['minute'] = data.hrmn.str[3:].astype(int)\n",
    "data.drop(inplace=True, columns='hrmn')"
   ]
  },
  {
   "cell_type": "code",
   "execution_count": 43,
   "metadata": {},
   "outputs": [
    {
     "data": {
      "text/plain": [
       "<AxesSubplot:>"
      ]
     },
     "execution_count": 43,
     "metadata": {},
     "output_type": "execute_result"
    },
    {
     "data": {
      "image/png": "[encoded data removed]",
      "text/plain": [
       "<Figure size 720x720 with 2 Axes>"
      ]
     },
     "metadata": {
      "needs_background": "light"
     },
     "output_type": "display_data"
    }
   ],
   "source": [
    "corr = data[['Tué', 'Indemne', 'Blessé léger', 'Blessé hospitalisé', 'jour', 'mois', 'heure', 'minute']].corr()\n",
    "fig, ax = plt.subplots(figsize=(10,10))\n",
    "sns.heatmap(data=corr, annot=corr, cmap='vlag', center=0)"
   ]
  },
  {
   "cell_type": "markdown",
   "metadata": {},
   "source": [
    "`jour`, `mois` et `minute` ont une corrélation très faible (<.01) avec les variables d'intérêt. On peut donc les exclure de l'analyse.\n",
    "\n",
    "(`heure` aussi dans une moindre mesure, mais je ne sais pas vraiment où placer la limite)"
   ]
  },
  {
   "cell_type": "code",
   "execution_count": 44,
   "metadata": {},
   "outputs": [],
   "source": [
    "data.drop(inplace=True, columns=['jour', 'mois', 'minute'])"
   ]
  },
  {
   "cell_type": "markdown",
   "metadata": {},
   "source": [
    "### Vitesse maximale autorisée (`vma`)"
   ]
  },
  {
   "cell_type": "markdown",
   "metadata": {},
   "source": [
    "On élimine les valeurs erronées pour la vitesse (cf `stats-descriptives.ipynb`, cellule 9) :"
   ]
  },
  {
   "cell_type": "code",
   "execution_count": 45,
   "metadata": {},
   "outputs": [
    {
     "name": "stdout",
     "output_type": "stream",
     "text": [
      "(132977, 144)\n",
      "(132537, 144)\n"
     ]
    }
   ],
   "source": [
    "na_values = [-1,0,1,2,3,4,6,7,12,500,600,700,800,5,10,42,560]\n",
    "print(data.shape)\n",
    "data = data[~data.vma.isin(na_values)]\n",
    "print(data.shape)"
   ]
  },
  {
   "cell_type": "markdown",
   "metadata": {},
   "source": [
    "(Cela n'a supprimé que 39 observations soit moins de 0,03% de l'échantillon)"
   ]
  },
  {
   "cell_type": "markdown",
   "metadata": {},
   "source": [
    "Pour les valeurs restantes, on fabrique des indicatrices :"
   ]
  },
  {
   "cell_type": "code",
   "execution_count": 46,
   "metadata": {},
   "outputs": [],
   "source": [
    "for lim in data.vma.unique().tolist():\n",
    "    if not np.isnan(lim):\n",
    "        data[f'Vitesse limitée à {int(lim)}km/h'] = (data.vma==lim).astype(int)\n",
    "data.drop(inplace=True, columns='vma')"
   ]
  },
  {
   "cell_type": "markdown",
   "metadata": {},
   "source": [
    "### Année de naissance"
   ]
  },
  {
   "cell_type": "code",
   "execution_count": 47,
   "metadata": {},
   "outputs": [
    {
     "data": {
      "text/plain": [
       "104"
      ]
     },
     "execution_count": 47,
     "metadata": {},
     "output_type": "execute_result"
    }
   ],
   "source": [
    "data.an_nais.nunique()"
   ]
  },
  {
   "cell_type": "markdown",
   "metadata": {},
   "source": [
    "Ca rajouterait beaucoup de variables de la transformer en suite d'indicatrices... => **Transformer en classes d'âges**"
   ]
  },
  {
   "cell_type": "code",
   "execution_count": 48,
   "metadata": {},
   "outputs": [],
   "source": [
    "data['age'] = 2019 - data.an_nais"
   ]
  },
  {
   "cell_type": "code",
   "execution_count": 49,
   "metadata": {},
   "outputs": [
    {
     "data": {
      "text/plain": [
       "(0, 119)"
      ]
     },
     "execution_count": 49,
     "metadata": {},
     "output_type": "execute_result"
    }
   ],
   "source": [
    "data.age.min(), data.age.max()"
   ]
  },
  {
   "cell_type": "code",
   "execution_count": 50,
   "metadata": {},
   "outputs": [],
   "source": [
    "for age_min, age_max in [(0,19), (20,39), (40,59), (60,74), (75,120)]:\n",
    "    data[f'{age_min}-{age_max}ans'] = ((data.age>=age_min)&(data.age<=age_max)).astype(int)\n",
    "data.drop(inplace=True, columns=['age', 'an_nais'])"
   ]
  },
  {
   "cell_type": "markdown",
   "metadata": {},
   "source": [
    "### Localisation (`dep`, `com`, `long`, `lat`)"
   ]
  },
  {
   "cell_type": "markdown",
   "metadata": {},
   "source": [
    "Ces variables sont-elles vraiment explicatives de l'issue de l'accident ?"
   ]
  },
  {
   "cell_type": "code",
   "execution_count": 51,
   "metadata": {},
   "outputs": [],
   "source": [
    "data['lat'] = data.lat.str.replace(',','.').astype(float)\n",
    "data['long'] = data.long.str.replace(',','.').astype(float)"
   ]
  },
  {
   "cell_type": "code",
   "execution_count": 52,
   "metadata": {},
   "outputs": [
    {
     "data": {
      "text/plain": [
       "<AxesSubplot:>"
      ]
     },
     "execution_count": 52,
     "metadata": {},
     "output_type": "execute_result"
    },
    {
     "data": {
      "image/png": "[encoded data removed]",
      "text/plain": [
       "<Figure size 720x720 with 2 Axes>"
      ]
     },
     "metadata": {
      "needs_background": "light"
     },
     "output_type": "display_data"
    }
   ],
   "source": [
    "corr = data[['Tué', 'Indemne', 'Blessé léger', 'Blessé hospitalisé', 'lat', 'long']].corr()\n",
    "fig, ax = plt.subplots(figsize=(10,10))\n",
    "sns.heatmap(data=corr, annot=corr, cmap='vlag', center=0, square=True)"
   ]
  },
  {
   "cell_type": "markdown",
   "metadata": {},
   "source": [
    "(Il est impossible de calculer la corrélation pour `com` et `dep` car on en peut pas les transformer en variables numériques. J'avoue que je ne sais pas quoi faire de ces variables du coup. Les transformer en indicatrices me sembre une très mauvaise idée compte tenu du nombre de communes...)"
   ]
  },
  {
   "cell_type": "markdown",
   "metadata": {},
   "source": [
    "Là aussi, correlation très faible avec les variables d'intérêt. Est-ce que ça vaut le coup de les garder ? À titre de comparaison, les corrélations avec le port de la ceinture et le fait que l'accident ait eu lieu en agglomération :"
   ]
  },
  {
   "cell_type": "code",
   "execution_count": 53,
   "metadata": {},
   "outputs": [
    {
     "data": {
      "text/plain": [
       "<AxesSubplot:>"
      ]
     },
     "execution_count": 53,
     "metadata": {},
     "output_type": "execute_result"
    },
    {
     "data": {
      "image/png": "[encoded data removed]",
      "text/plain": [
       "<Figure size 720x720 with 2 Axes>"
      ]
     },
     "metadata": {
      "needs_background": "light"
     },
     "output_type": "display_data"
    }
   ],
   "source": [
    "corr = data[['Tué', 'Indemne', 'Blessé léger', 'Blessé hospitalisé', 'Ceinture', 'En agglomération']].corr()\n",
    "fig, ax = plt.subplots(figsize=(10,10))\n",
    "sns.heatmap(data=corr, annot=corr, cmap='vlag', center=0, square=True)"
   ]
  },
  {
   "cell_type": "markdown",
   "metadata": {},
   "source": [
    "=> On ignore les 4"
   ]
  },
  {
   "cell_type": "code",
   "execution_count": 54,
   "metadata": {},
   "outputs": [],
   "source": [
    "data.drop(inplace=True, columns=['lat', 'long', 'com', 'dep'])"
   ]
  },
  {
   "cell_type": "markdown",
   "metadata": {},
   "source": [
    "### Nombre de voies (`nbv`)"
   ]
  },
  {
   "cell_type": "code",
   "execution_count": 55,
   "metadata": {},
   "outputs": [],
   "source": [
    "for number in range(1,13):\n",
    "    data[f'{number} voies de circulation'] = (data.nbv==number).astype(int)\n",
    "data.drop(inplace=True, columns='nbv')"
   ]
  },
  {
   "cell_type": "markdown",
   "metadata": {},
   "source": [
    "### Numéro et distance de la borne amont (`pr` et `pr1`)"
   ]
  },
  {
   "cell_type": "markdown",
   "metadata": {},
   "source": [
    "Ce serait intéressant d'analyser cette variable si on se limitait à une route en particulier, pour repérer les foyers d'accidents, mais dans la mesure où on utilise toutes les observations, je ne sais pas si elle est vraiment pertinente."
   ]
  },
  {
   "cell_type": "code",
   "execution_count": 56,
   "metadata": {},
   "outputs": [],
   "source": [
    "data.drop(inplace=True, columns=['pr', 'pr1'])"
   ]
  },
  {
   "cell_type": "markdown",
   "metadata": {},
   "source": [
    "# Elimination des variables avec une corrélation élevée"
   ]
  },
  {
   "cell_type": "markdown",
   "metadata": {},
   "source": [
    "On cherche les variables (quasiment) identiques (au final aucune)."
   ]
  },
  {
   "cell_type": "code",
   "execution_count": 57,
   "metadata": {},
   "outputs": [
    {
     "data": {
      "text/plain": [
       "[]"
      ]
     },
     "execution_count": 57,
     "metadata": {},
     "output_type": "execute_result"
    }
   ],
   "source": [
    "threshold = .8\n",
    "variables = data.columns.tolist()\n",
    "to_eliminate = []\n",
    "n_vars = len(variables)\n",
    "if False:\n",
    "    for i in range(n_vars):\n",
    "        if variables[i] not in to_eliminate:\n",
    "            for j in range(i+1, n_vars):\n",
    "                if variables[j] not in to_eliminate and np.abs(data[[variables[i], variables[j]]].corr().values[0,1]) > threshold:\n",
    "                    to_eliminate.append(variables[j])\n",
    "                    print(f'`{variables[i]}` est fortement corrélé à `{variables[j]}`')\n",
    "to_eliminate"
   ]
  },
  {
   "cell_type": "code",
   "execution_count": 58,
   "metadata": {},
   "outputs": [],
   "source": [
    "data.drop(inplace=True, columns=to_eliminate)"
   ]
  },
  {
   "cell_type": "markdown",
   "metadata": {},
   "source": [
    "# Création du nouveau fichier"
   ]
  },
  {
   "cell_type": "code",
   "execution_count": 59,
   "metadata": {},
   "outputs": [],
   "source": [
    "data.to_csv('DummiesV2.csv', index=False)"
   ]
  },
  {
   "cell_type": "code",
   "execution_count": 60,
   "metadata": {},
   "outputs": [
    {
     "data": {
      "text/plain": [
       "169"
      ]
     },
     "execution_count": 60,
     "metadata": {},
     "output_type": "execute_result"
    }
   ],
   "source": [
    "len(data.columns)"
   ]
  }
 ],
 "metadata": {
  "interpreter": {
   "hash": "30e27b106c8b3f99b2faecf34bf25cdb5b6d677319f712e782cc959df41700d2"
  },
  "kernelspec": {
   "display_name": "Python 3.8.8 64-bit ('base': conda)",
   "language": "python",
   "name": "python3"
  },
  "language_info": {
   "codemirror_mode": {
    "name": "ipython",
    "version": 3
   },
   "file_extension": ".py",
   "mimetype": "text/x-python",
   "name": "python",
   "nbconvert_exporter": "python",
   "pygments_lexer": "ipython3",
   "version": "3.8.8"
  },
  "orig_nbformat": 4
 },
 "nbformat": 4,
 "nbformat_minor": 2
}
