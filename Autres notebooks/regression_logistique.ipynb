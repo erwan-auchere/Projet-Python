{
 "cells": [
  {
   "cell_type": "code",
   "execution_count": 16,
   "metadata": {
    "collapsed": true
   },
   "outputs": [],
   "source": [
    "import numpy as np\n",
    "import pandas as pd\n",
    "import matplotlib.pyplot as plt\n",
    "from sklearn import linear_model\n",
    "import time\n",
    "from sklearn.metrics import accuracy_score\n",
    "from sklearn.linear_model import LogisticRegression\n",
    "from sklearn.model_selection import train_test_split"
   ]
  },
  {
   "cell_type": "code",
   "execution_count": 17,
   "metadata": {
    "collapsed": true
   },
   "outputs": [],
   "source": [
    "df = pd.read_csv('Dummies.csv')"
   ]
  },
  {
   "cell_type": "code",
   "execution_count": 18,
   "metadata": {
    "collapsed": true
   },
   "outputs": [],
   "source": [
    "df.loc[df['Indemne']==1,'grav']= int(0)\n",
    "df.loc[df['Blessé léger']==1,'grav']= int(1)\n",
    "df.loc[df['Blessé hospitalisé']==1,'grav']= int(2)\n",
    "df.loc[df['Tué']==1,'grav']= int(3)\n",
    "df['grav']=df['grav'].astype(int)"
   ]
  },
  {
   "cell_type": "code",
   "execution_count": 19,
   "metadata": {
    "collapsed": true
   },
   "outputs": [],
   "source": [
    "\n",
    "g=['Indemne','Tué','Blessé hospitalisé','Blessé léger','grav']\n",
    "l=list(df.drop(columns=g).columns)\n",
    "X=df[l].values\n",
    "Y=df['grav'].values\n",
    "X_train, X_test,Y_train, Y_test = train_test_split(X,Y,test_size=0.3,train_size=0.7)\n",
    "logreg=LogisticRegression(multi_class='ovr', solver='liblinear')\n",
    "logreg2=LogisticRegression(multi_class='ovr',max_iter=1000, solver='newton-cg')\n",
    "#ne fonctionne pas (ni 'saga') logreg3=LogisticRegression(multi_class='ovr',max_iter=1000, solver='sag')"
   ]
  },
  {
   "cell_type": "code",
   "execution_count": 20,
   "metadata": {},
   "outputs": [
    {
     "data": {
      "text/plain": [
       "15.141518115997314"
      ]
     },
     "execution_count": 20,
     "metadata": {},
     "output_type": "execute_result"
    }
   ],
   "source": [
    "start=time.time()\n",
    "logreg.fit(X_train,Y_train)\n",
    "end=time.time()\n",
    "t=end-start\n",
    "t"
   ]
  },
  {
   "cell_type": "code",
   "execution_count": 21,
   "metadata": {},
   "outputs": [
    {
     "data": {
      "text/plain": [
       "148.16211414337158"
      ]
     },
     "execution_count": 21,
     "metadata": {},
     "output_type": "execute_result"
    }
   ],
   "source": [
    "start=time.time()\n",
    "logreg2.fit(X_train,Y_train)\n",
    "end=time.time()\n",
    "t=end-start\n",
    "t"
   ]
  },
  {
   "cell_type": "code",
   "execution_count": null,
   "metadata": {
    "collapsed": true
   },
   "outputs": [],
   "source": [
    "#import time\n",
    "#start=time.time()\n",
    "#logreg3.fit(X_train,Y_train)\n",
    "#end=time.time()\n",
    "#t=end-start\n",
    "#t"
   ]
  },
  {
   "cell_type": "code",
   "execution_count": 22,
   "metadata": {
    "collapsed": true
   },
   "outputs": [],
   "source": [
    "Y_hat=logreg.predict(X_test)\n",
    "Y_hat_2=logreg2.predict(X_test)"
   ]
  },
  {
   "cell_type": "code",
   "execution_count": 23,
   "metadata": {},
   "outputs": [
    {
     "data": {
      "image/png": "[encoded data removed]",
      "text/plain": [
       "<Figure size 432x288 with 1 Axes>"
      ]
     },
     "metadata": {},
     "output_type": "display_data"
    },
    {
     "data": {
      "text/plain": [
       "<Figure size 7200x72 with 0 Axes>"
      ]
     },
     "metadata": {},
     "output_type": "display_data"
    }
   ],
   "source": [
    "import matplotlib.pyplot as plt\n",
    "from matplotlib.pyplot import figure\n",
    "x= np.arange(0,100)\n",
    "plt.scatter(x,Y_test[0:100],s=3,color='red')\n",
    "plt.scatter(x,Y_hat[0:100],s=3,color='blue')\n",
    "figure(figsize=(100,1 ))\n",
    "plt.show()\n"
   ]
  },
  {
   "cell_type": "code",
   "execution_count": 24,
   "metadata": {
    "collapsed": true
   },
   "outputs": [],
   "source": [
    "acc1= accuracy_score(Y_test, Y_hat)\n",
    "acc2=accuracy_score(Y_test, Y_hat_2)"
   ]
  },
  {
   "cell_type": "code",
   "execution_count": 26,
   "metadata": {},
   "outputs": [
    {
     "data": {
      "text/plain": [
       "0.6489613198531261"
      ]
     },
     "execution_count": 26,
     "metadata": {},
     "output_type": "execute_result"
    }
   ],
   "source": [
    "acc1"
   ]
  },
  {
   "cell_type": "code",
   "execution_count": 27,
   "metadata": {},
   "outputs": [
    {
     "data": {
      "text/plain": [
       "0.6488858709320456"
      ]
     },
     "execution_count": 27,
     "metadata": {},
     "output_type": "execute_result"
    }
   ],
   "source": [
    "acc2"
   ]
  },
  {
   "cell_type": "code",
   "execution_count": null,
   "metadata": {
    "collapsed": true
   },
   "outputs": [],
   "source": [
    "\n",
    "#liblinear et newton solver qui fonctionnent \n",
    "#pénalisation L1 ou L2 pour le premier et L1 pour le deuxieme \n",
    "#essai"
   ]
  },
  {
   "cell_type": "code",
   "execution_count": 28,
   "metadata": {
    "collapsed": true
   },
   "outputs": [],
   "source": [
    "logreg_penal_1=LogisticRegression(multi_class='ovr', solver='liblinear',penalty='l1')\n",
    "logreg_penal_2=LogisticRegression(multi_class='ovr', solver='liblinear',penalty='l2')"
   ]
  },
  {
   "cell_type": "code",
   "execution_count": 29,
   "metadata": {},
   "outputs": [
    {
     "data": {
      "text/plain": [
       "45.53638410568237"
      ]
     },
     "execution_count": 29,
     "metadata": {},
     "output_type": "execute_result"
    }
   ],
   "source": [
    "start=time.time()\n",
    "logreg_penal_1.fit(X_train,Y_train)\n",
    "end=time.time()\n",
    "t=end-start\n",
    "t"
   ]
  },
  {
   "cell_type": "code",
   "execution_count": 30,
   "metadata": {},
   "outputs": [
    {
     "data": {
      "text/plain": [
       "2.5149640360155878e-05"
      ]
     },
     "execution_count": 30,
     "metadata": {},
     "output_type": "execute_result"
    }
   ],
   "source": [
    "Y_hat_penalty1= logreg_penal_1.predict(X_test)\n",
    "acc1_penal1= accuracy_score(Y_test, Y_hat_penalty1)\n",
    "gain1_penal1= acc1 - acc1_penal1\n",
    "gain1_penal1"
   ]
  },
  {
   "cell_type": "code",
   "execution_count": 31,
   "metadata": {},
   "outputs": [
    {
     "data": {
      "text/plain": [
       "15.871536016464233"
      ]
     },
     "execution_count": 31,
     "metadata": {},
     "output_type": "execute_result"
    }
   ],
   "source": [
    "start=time.time()\n",
    "logreg_penal_2.fit(X_train,Y_train)\n",
    "end=time.time()\n",
    "t=end-start\n",
    "t\n",
    "#gros gain de temps sur la pénalité L1"
   ]
  },
  {
   "cell_type": "code",
   "execution_count": 33,
   "metadata": {},
   "outputs": [
    {
     "data": {
      "text/plain": [
       "0.0"
      ]
     },
     "execution_count": 33,
     "metadata": {},
     "output_type": "execute_result"
    }
   ],
   "source": [
    "Y_hat_penalty2= logreg_penal_2.predict(X_test)\n",
    "acc1_penal2= accuracy_score(Y_test, Y_hat_penalty2)\n",
    "gain1_penal2= acc1 - acc1_penal2\n",
    "gain1_penal2\n",
    "#aucun gain \n",
    "#interprétation des résultats?"
   ]
  },
  {
   "cell_type": "markdown",
   "metadata": {
    "collapsed": true
   },
   "source": [
    "A faire : \n",
    "- tester la regression après sélection de variable par random forest pour voir si ca donne mieux \n",
    "- tester la pénalisation après séléction de variable \n",
    "- essayer de trouver une méthode 'ordinale'"
   ]
  },
  {
   "cell_type": "code",
   "execution_count": null,
   "metadata": {
    "collapsed": true
   },
   "outputs": [],
   "source": []
  }
 ],
 "metadata": {
  "kernelspec": {
   "display_name": "Python 3",
   "language": "python",
   "name": "python3"
  },
  "language_info": {
   "codemirror_mode": {
    "name": "ipython",
    "version": 3
   },
   "file_extension": ".py",
   "mimetype": "text/x-python",
   "name": "python",
   "nbconvert_exporter": "python",
   "pygments_lexer": "ipython3",
   "version": "3.6.2"
  }
 },
 "nbformat": 4,
 "nbformat_minor": 2
}
